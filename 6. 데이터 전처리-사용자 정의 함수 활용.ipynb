{
 "cells": [
  {
   "cell_type": "code",
   "execution_count": 1,
   "id": "ecb89d05",
   "metadata": {},
   "outputs": [],
   "source": [
    "import pandas as pd"
   ]
  },
  {
   "cell_type": "code",
   "execution_count": 2,
   "id": "63e81499",
   "metadata": {},
   "outputs": [],
   "source": [
    "def udf_sum(x,y):\n",
    "    result = x + y\n",
    "    return result"
   ]
  },
  {
   "cell_type": "code",
   "execution_count": 4,
   "id": "ffa23f39",
   "metadata": {},
   "outputs": [
    {
     "data": {
      "text/plain": [
       "0     6\n",
       "1     8\n",
       "2    10\n",
       "dtype: int64"
      ]
     },
     "execution_count": 4,
     "metadata": {},
     "output_type": "execute_result"
    }
   ],
   "source": [
    "udf_sum(pd.Series([2,4,6]),4)"
   ]
  },
  {
   "cell_type": "code",
   "execution_count": 5,
   "id": "90217089",
   "metadata": {},
   "outputs": [],
   "source": [
    "def udf_sum2(x,y):\n",
    "    result = x.sum() + y\n",
    "    return result"
   ]
  },
  {
   "cell_type": "code",
   "execution_count": 6,
   "id": "2737b051",
   "metadata": {},
   "outputs": [
    {
     "data": {
      "text/plain": [
       "16"
      ]
     },
     "execution_count": 6,
     "metadata": {},
     "output_type": "execute_result"
    }
   ],
   "source": [
    "udf_sum2(pd.Series([2,4,6]),4)"
   ]
  },
  {
   "cell_type": "code",
   "execution_count": 13,
   "id": "b9b95751",
   "metadata": {},
   "outputs": [],
   "source": [
    "def udf_mean1(x):\n",
    "    result = round(x.mean(),3)\n",
    "    return result"
   ]
  },
  {
   "cell_type": "code",
   "execution_count": 14,
   "id": "287545d3",
   "metadata": {},
   "outputs": [
    {
     "data": {
      "text/plain": [
       "9.001"
      ]
     },
     "execution_count": 14,
     "metadata": {},
     "output_type": "execute_result"
    }
   ],
   "source": [
    "udf_mean1(pd.Series([4,6,8,17,19,0.0042554235]))"
   ]
  },
  {
   "cell_type": "code",
   "execution_count": 15,
   "id": "007cb47a",
   "metadata": {},
   "outputs": [],
   "source": [
    "def udf_mean2(x,digit):\n",
    "    result = round(x.mean(),digit)\n",
    "    return result"
   ]
  },
  {
   "cell_type": "code",
   "execution_count": 19,
   "id": "f2e75529",
   "metadata": {},
   "outputs": [
    {
     "data": {
      "text/plain": [
       "9.00071"
      ]
     },
     "execution_count": 19,
     "metadata": {},
     "output_type": "execute_result"
    }
   ],
   "source": [
    "# digit은 소수점 아래 몇째자리까지 나타낼 것인가 결정\n",
    "udf_mean2(pd.Series([4,6,8,17,19,0.0042554235]),5)"
   ]
  },
  {
   "cell_type": "code",
   "execution_count": 20,
   "id": "a3dd458c",
   "metadata": {},
   "outputs": [],
   "source": [
    "def udf_mean3(x,digit=3):\n",
    "    result = round(x.mean(),digit)\n",
    "    return result"
   ]
  },
  {
   "cell_type": "code",
   "execution_count": 21,
   "id": "7a38cd7f",
   "metadata": {},
   "outputs": [
    {
     "data": {
      "text/plain": [
       "9.001"
      ]
     },
     "execution_count": 21,
     "metadata": {},
     "output_type": "execute_result"
    }
   ],
   "source": [
    "udf_mean3(pd.Series([4,6,8,17,19,0.0042554235]))"
   ]
  },
  {
   "cell_type": "markdown",
   "id": "5d8b1006",
   "metadata": {},
   "source": [
    "1. 입력 객체의 원소를 모두 제곱한 후 그 원소를 더한 다음 제곱근을\n",
    "취하는 사용자 정의 함수를 만들었을 때 해당 사용자 정의 함수에 \n",
    "[3,5,9,20]를 입력으로 하는 경우 그 출력값은?"
   ]
  },
  {
   "cell_type": "code",
   "execution_count": 22,
   "id": "65c0ebdd",
   "metadata": {},
   "outputs": [],
   "source": [
    "#pow는 제곱, **는 지수\n",
    "def udf_euc(x):\n",
    "    result = x.pow(2).sum()**0.5\n",
    "    return result"
   ]
  },
  {
   "cell_type": "code",
   "execution_count": 24,
   "id": "abca2b7b",
   "metadata": {},
   "outputs": [
    {
     "data": {
      "text/plain": [
       "22.693611435820433"
      ]
     },
     "execution_count": 24,
     "metadata": {},
     "output_type": "execute_result"
    }
   ],
   "source": [
    "udf_euc(pd.Series([3,5,9,20]))"
   ]
  },
  {
   "cell_type": "code",
   "execution_count": null,
   "id": "4f366e37",
   "metadata": {},
   "outputs": [],
   "source": [
    "# def udf_euc(x):\n",
    "#     result = (x**2).sum()**0.5\n",
    "#     return result"
   ]
  },
  {
   "cell_type": "markdown",
   "id": "9cd03bab",
   "metadata": {},
   "source": [
    "2. 표준화(Standardization) 사용자 정의 함수를 만들고 [-4,5,7,9]를 입력한 \n",
    "경우 여기서 입력한 7은 몇으로 반환되는가?"
   ]
  },
  {
   "cell_type": "code",
   "execution_count": 25,
   "id": "727b9ea0",
   "metadata": {},
   "outputs": [],
   "source": [
    "def nor_std(x):\n",
    "    result = (x-x.mean()) / x.std()\n",
    "    return result"
   ]
  },
  {
   "cell_type": "code",
   "execution_count": 26,
   "id": "022c15b4",
   "metadata": {},
   "outputs": [
    {
     "data": {
      "text/plain": [
       "0   -1.437957\n",
       "1    0.130723\n",
       "2    0.479319\n",
       "3    0.827915\n",
       "dtype: float64"
      ]
     },
     "execution_count": 26,
     "metadata": {},
     "output_type": "execute_result"
    }
   ],
   "source": [
    "nor_std(pd.Series([-4,5,7,9]))"
   ]
  },
  {
   "cell_type": "markdown",
   "id": "2344da15",
   "metadata": {},
   "source": [
    "3. MinMax 정규화 사용자 정의 함수를 만들고 [-4,5,7,9]를 입력한 경우 여기서 \n",
    "입력한 7은 몇으로 반환되는가?"
   ]
  },
  {
   "cell_type": "code",
   "execution_count": 27,
   "id": "3ed52e7e",
   "metadata": {},
   "outputs": [],
   "source": [
    "def nor_minmax(x):\n",
    "    result = (x-x.min()) / (x.max() - x.min())\n",
    "    return result"
   ]
  },
  {
   "cell_type": "code",
   "execution_count": 28,
   "id": "ef855bfb",
   "metadata": {},
   "outputs": [
    {
     "data": {
      "text/plain": [
       "0    0.000000\n",
       "1    0.692308\n",
       "2    0.846154\n",
       "3    1.000000\n",
       "dtype: float64"
      ]
     },
     "execution_count": 28,
     "metadata": {},
     "output_type": "execute_result"
    }
   ],
   "source": [
    "nor_minmax(pd.Series([-4,5,7,9]))"
   ]
  },
  {
   "cell_type": "code",
   "execution_count": null,
   "id": "b4022d4c",
   "metadata": {},
   "outputs": [],
   "source": []
  }
 ],
 "metadata": {
  "kernelspec": {
   "display_name": "Python 3 (ipykernel)",
   "language": "python",
   "name": "python3"
  },
  "language_info": {
   "codemirror_mode": {
    "name": "ipython",
    "version": 3
   },
   "file_extension": ".py",
   "mimetype": "text/x-python",
   "name": "python",
   "nbconvert_exporter": "python",
   "pygments_lexer": "ipython3",
   "version": "3.9.7"
  }
 },
 "nbformat": 4,
 "nbformat_minor": 5
}
