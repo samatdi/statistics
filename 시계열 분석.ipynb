{
 "cells": [
  {
   "cell_type": "code",
   "execution_count": 1,
   "id": "3b29650e",
   "metadata": {},
   "outputs": [],
   "source": [
    "import pandas as pd"
   ]
  },
  {
   "cell_type": "markdown",
   "id": "7afec79f",
   "metadata": {},
   "source": [
    "# 단순이동평균"
   ]
  },
  {
   "cell_type": "code",
   "execution_count": 2,
   "id": "090e55ad",
   "metadata": {},
   "outputs": [
    {
     "data": {
      "text/html": [
       "<div>\n",
       "<style scoped>\n",
       "    .dataframe tbody tr th:only-of-type {\n",
       "        vertical-align: middle;\n",
       "    }\n",
       "\n",
       "    .dataframe tbody tr th {\n",
       "        vertical-align: top;\n",
       "    }\n",
       "\n",
       "    .dataframe thead th {\n",
       "        text-align: right;\n",
       "    }\n",
       "</style>\n",
       "<table border=\"1\" class=\"dataframe\">\n",
       "  <thead>\n",
       "    <tr style=\"text-align: right;\">\n",
       "      <th></th>\n",
       "      <th>사용일자</th>\n",
       "      <th>노선명</th>\n",
       "      <th>역명</th>\n",
       "      <th>승차총승객수</th>\n",
       "      <th>하차총승객수</th>\n",
       "      <th>등록일자</th>\n",
       "    </tr>\n",
       "  </thead>\n",
       "  <tbody>\n",
       "    <tr>\n",
       "      <th>0</th>\n",
       "      <td>20191201</td>\n",
       "      <td>1호선</td>\n",
       "      <td>종각</td>\n",
       "      <td>19093</td>\n",
       "      <td>17141</td>\n",
       "      <td>20191204</td>\n",
       "    </tr>\n",
       "    <tr>\n",
       "      <th>1</th>\n",
       "      <td>20191201</td>\n",
       "      <td>1호선</td>\n",
       "      <td>종로3가</td>\n",
       "      <td>19646</td>\n",
       "      <td>17772</td>\n",
       "      <td>20191204</td>\n",
       "    </tr>\n",
       "  </tbody>\n",
       "</table>\n",
       "</div>"
      ],
      "text/plain": [
       "       사용일자  노선명    역명  승차총승객수  하차총승객수      등록일자\n",
       "0  20191201  1호선    종각   19093   17141  20191204\n",
       "1  20191201  1호선  종로3가   19646   17772  20191204"
      ]
     },
     "execution_count": 2,
     "metadata": {},
     "output_type": "execute_result"
    }
   ],
   "source": [
    "df = pd.read_csv(\"실기 Python 실습파일 (2)/seoul_subway.csv\")\n",
    "df.head(2)"
   ]
  },
  {
   "cell_type": "code",
   "execution_count": 3,
   "id": "1fe76ac2",
   "metadata": {},
   "outputs": [
    {
     "data": {
      "text/html": [
       "<div>\n",
       "<style scoped>\n",
       "    .dataframe tbody tr th:only-of-type {\n",
       "        vertical-align: middle;\n",
       "    }\n",
       "\n",
       "    .dataframe tbody tr th {\n",
       "        vertical-align: top;\n",
       "    }\n",
       "\n",
       "    .dataframe thead th {\n",
       "        text-align: right;\n",
       "    }\n",
       "</style>\n",
       "<table border=\"1\" class=\"dataframe\">\n",
       "  <thead>\n",
       "    <tr style=\"text-align: right;\">\n",
       "      <th></th>\n",
       "      <th>사용일자</th>\n",
       "      <th>노선명</th>\n",
       "      <th>역명</th>\n",
       "      <th>승차총승객수</th>\n",
       "      <th>하차총승객수</th>\n",
       "      <th>등록일자</th>\n",
       "    </tr>\n",
       "  </thead>\n",
       "  <tbody>\n",
       "    <tr>\n",
       "      <th>1</th>\n",
       "      <td>20191201</td>\n",
       "      <td>1호선</td>\n",
       "      <td>종로3가</td>\n",
       "      <td>19646</td>\n",
       "      <td>17772</td>\n",
       "      <td>20191204</td>\n",
       "    </tr>\n",
       "    <tr>\n",
       "      <th>593</th>\n",
       "      <td>20191202</td>\n",
       "      <td>1호선</td>\n",
       "      <td>종로3가</td>\n",
       "      <td>34277</td>\n",
       "      <td>32405</td>\n",
       "      <td>20191205</td>\n",
       "    </tr>\n",
       "    <tr>\n",
       "      <th>1184</th>\n",
       "      <td>20191203</td>\n",
       "      <td>1호선</td>\n",
       "      <td>종로3가</td>\n",
       "      <td>34957</td>\n",
       "      <td>32832</td>\n",
       "      <td>20191206</td>\n",
       "    </tr>\n",
       "    <tr>\n",
       "      <th>1776</th>\n",
       "      <td>20191204</td>\n",
       "      <td>1호선</td>\n",
       "      <td>종로3가</td>\n",
       "      <td>36007</td>\n",
       "      <td>33498</td>\n",
       "      <td>20191207</td>\n",
       "    </tr>\n",
       "    <tr>\n",
       "      <th>2426</th>\n",
       "      <td>20191205</td>\n",
       "      <td>1호선</td>\n",
       "      <td>종로3가</td>\n",
       "      <td>35536</td>\n",
       "      <td>33702</td>\n",
       "      <td>20191208</td>\n",
       "    </tr>\n",
       "  </tbody>\n",
       "</table>\n",
       "</div>"
      ],
      "text/plain": [
       "          사용일자  노선명    역명  승차총승객수  하차총승객수      등록일자\n",
       "1     20191201  1호선  종로3가   19646   17772  20191204\n",
       "593   20191202  1호선  종로3가   34277   32405  20191205\n",
       "1184  20191203  1호선  종로3가   34957   32832  20191206\n",
       "1776  20191204  1호선  종로3가   36007   33498  20191207\n",
       "2426  20191205  1호선  종로3가   35536   33702  20191208"
      ]
     },
     "execution_count": 3,
     "metadata": {},
     "output_type": "execute_result"
    }
   ],
   "source": [
    "df_sub = df.loc[(df[\"노선명\"] ==\"1호선\")&(df[\"역명\"]== \"종로3가\"),]\n",
    "df_sub.head()"
   ]
  },
  {
   "cell_type": "code",
   "execution_count": 5,
   "id": "6223c9ba",
   "metadata": {},
   "outputs": [
    {
     "name": "stderr",
     "output_type": "stream",
     "text": [
      "C:\\Users\\82103\\AppData\\Local\\Temp/ipykernel_24528/2864338070.py:1: SettingWithCopyWarning: \n",
      "A value is trying to be set on a copy of a slice from a DataFrame.\n",
      "Try using .loc[row_indexer,col_indexer] = value instead\n",
      "\n",
      "See the caveats in the documentation: https://pandas.pydata.org/pandas-docs/stable/user_guide/indexing.html#returning-a-view-versus-a-copy\n",
      "  df_sub[\"MA_5\"] = df_sub[\"승차총승객수\"].rolling(window =5).mean()\n"
     ]
    },
    {
     "data": {
      "text/html": [
       "<div>\n",
       "<style scoped>\n",
       "    .dataframe tbody tr th:only-of-type {\n",
       "        vertical-align: middle;\n",
       "    }\n",
       "\n",
       "    .dataframe tbody tr th {\n",
       "        vertical-align: top;\n",
       "    }\n",
       "\n",
       "    .dataframe thead th {\n",
       "        text-align: right;\n",
       "    }\n",
       "</style>\n",
       "<table border=\"1\" class=\"dataframe\">\n",
       "  <thead>\n",
       "    <tr style=\"text-align: right;\">\n",
       "      <th></th>\n",
       "      <th>사용일자</th>\n",
       "      <th>노선명</th>\n",
       "      <th>역명</th>\n",
       "      <th>승차총승객수</th>\n",
       "      <th>하차총승객수</th>\n",
       "      <th>등록일자</th>\n",
       "      <th>MA_5</th>\n",
       "    </tr>\n",
       "  </thead>\n",
       "  <tbody>\n",
       "    <tr>\n",
       "      <th>1</th>\n",
       "      <td>20191201</td>\n",
       "      <td>1호선</td>\n",
       "      <td>종로3가</td>\n",
       "      <td>19646</td>\n",
       "      <td>17772</td>\n",
       "      <td>20191204</td>\n",
       "      <td>NaN</td>\n",
       "    </tr>\n",
       "    <tr>\n",
       "      <th>593</th>\n",
       "      <td>20191202</td>\n",
       "      <td>1호선</td>\n",
       "      <td>종로3가</td>\n",
       "      <td>34277</td>\n",
       "      <td>32405</td>\n",
       "      <td>20191205</td>\n",
       "      <td>NaN</td>\n",
       "    </tr>\n",
       "    <tr>\n",
       "      <th>1184</th>\n",
       "      <td>20191203</td>\n",
       "      <td>1호선</td>\n",
       "      <td>종로3가</td>\n",
       "      <td>34957</td>\n",
       "      <td>32832</td>\n",
       "      <td>20191206</td>\n",
       "      <td>NaN</td>\n",
       "    </tr>\n",
       "    <tr>\n",
       "      <th>1776</th>\n",
       "      <td>20191204</td>\n",
       "      <td>1호선</td>\n",
       "      <td>종로3가</td>\n",
       "      <td>36007</td>\n",
       "      <td>33498</td>\n",
       "      <td>20191207</td>\n",
       "      <td>NaN</td>\n",
       "    </tr>\n",
       "    <tr>\n",
       "      <th>2426</th>\n",
       "      <td>20191205</td>\n",
       "      <td>1호선</td>\n",
       "      <td>종로3가</td>\n",
       "      <td>35536</td>\n",
       "      <td>33702</td>\n",
       "      <td>20191208</td>\n",
       "      <td>32084.6</td>\n",
       "    </tr>\n",
       "    <tr>\n",
       "      <th>2960</th>\n",
       "      <td>20191206</td>\n",
       "      <td>1호선</td>\n",
       "      <td>종로3가</td>\n",
       "      <td>36242</td>\n",
       "      <td>35437</td>\n",
       "      <td>20191209</td>\n",
       "      <td>35403.8</td>\n",
       "    </tr>\n",
       "    <tr>\n",
       "      <th>3602</th>\n",
       "      <td>20191207</td>\n",
       "      <td>1호선</td>\n",
       "      <td>종로3가</td>\n",
       "      <td>37687</td>\n",
       "      <td>36926</td>\n",
       "      <td>20191210</td>\n",
       "      <td>36085.8</td>\n",
       "    </tr>\n",
       "    <tr>\n",
       "      <th>4142</th>\n",
       "      <td>20191208</td>\n",
       "      <td>1호선</td>\n",
       "      <td>종로3가</td>\n",
       "      <td>22809</td>\n",
       "      <td>19859</td>\n",
       "      <td>20191211</td>\n",
       "      <td>33656.2</td>\n",
       "    </tr>\n",
       "  </tbody>\n",
       "</table>\n",
       "</div>"
      ],
      "text/plain": [
       "          사용일자  노선명    역명  승차총승객수  하차총승객수      등록일자     MA_5\n",
       "1     20191201  1호선  종로3가   19646   17772  20191204      NaN\n",
       "593   20191202  1호선  종로3가   34277   32405  20191205      NaN\n",
       "1184  20191203  1호선  종로3가   34957   32832  20191206      NaN\n",
       "1776  20191204  1호선  종로3가   36007   33498  20191207      NaN\n",
       "2426  20191205  1호선  종로3가   35536   33702  20191208  32084.6\n",
       "2960  20191206  1호선  종로3가   36242   35437  20191209  35403.8\n",
       "3602  20191207  1호선  종로3가   37687   36926  20191210  36085.8\n",
       "4142  20191208  1호선  종로3가   22809   19859  20191211  33656.2"
      ]
     },
     "execution_count": 5,
     "metadata": {},
     "output_type": "execute_result"
    }
   ],
   "source": [
    "df_sub[\"MA_5\"] = df_sub[\"승차총승객수\"].rolling(window =5).mean()\n",
    "df_sub.head(8)"
   ]
  },
  {
   "cell_type": "markdown",
   "id": "06d5cb55",
   "metadata": {},
   "source": [
    "# 지수평활계수"
   ]
  },
  {
   "cell_type": "code",
   "execution_count": 6,
   "id": "9d014270",
   "metadata": {},
   "outputs": [
    {
     "name": "stderr",
     "output_type": "stream",
     "text": [
      "C:\\Users\\82103\\AppData\\Local\\Temp/ipykernel_24528/231271377.py:1: SettingWithCopyWarning: \n",
      "A value is trying to be set on a copy of a slice from a DataFrame.\n",
      "Try using .loc[row_indexer,col_indexer] = value instead\n",
      "\n",
      "See the caveats in the documentation: https://pandas.pydata.org/pandas-docs/stable/user_guide/indexing.html#returning-a-view-versus-a-copy\n",
      "  df_sub[\"EWMA_01\"] = df_sub[\"승차총승객수\"].ewm(alpha =0.1).mean()\n"
     ]
    },
    {
     "data": {
      "text/html": [
       "<div>\n",
       "<style scoped>\n",
       "    .dataframe tbody tr th:only-of-type {\n",
       "        vertical-align: middle;\n",
       "    }\n",
       "\n",
       "    .dataframe tbody tr th {\n",
       "        vertical-align: top;\n",
       "    }\n",
       "\n",
       "    .dataframe thead th {\n",
       "        text-align: right;\n",
       "    }\n",
       "</style>\n",
       "<table border=\"1\" class=\"dataframe\">\n",
       "  <thead>\n",
       "    <tr style=\"text-align: right;\">\n",
       "      <th></th>\n",
       "      <th>사용일자</th>\n",
       "      <th>노선명</th>\n",
       "      <th>역명</th>\n",
       "      <th>승차총승객수</th>\n",
       "      <th>하차총승객수</th>\n",
       "      <th>등록일자</th>\n",
       "      <th>MA_5</th>\n",
       "      <th>EWMA_01</th>\n",
       "    </tr>\n",
       "  </thead>\n",
       "  <tbody>\n",
       "    <tr>\n",
       "      <th>1</th>\n",
       "      <td>20191201</td>\n",
       "      <td>1호선</td>\n",
       "      <td>종로3가</td>\n",
       "      <td>19646</td>\n",
       "      <td>17772</td>\n",
       "      <td>20191204</td>\n",
       "      <td>NaN</td>\n",
       "      <td>19646.000000</td>\n",
       "    </tr>\n",
       "    <tr>\n",
       "      <th>593</th>\n",
       "      <td>20191202</td>\n",
       "      <td>1호선</td>\n",
       "      <td>종로3가</td>\n",
       "      <td>34277</td>\n",
       "      <td>32405</td>\n",
       "      <td>20191205</td>\n",
       "      <td>NaN</td>\n",
       "      <td>27346.526316</td>\n",
       "    </tr>\n",
       "    <tr>\n",
       "      <th>1184</th>\n",
       "      <td>20191203</td>\n",
       "      <td>1호선</td>\n",
       "      <td>종로3가</td>\n",
       "      <td>34957</td>\n",
       "      <td>32832</td>\n",
       "      <td>20191206</td>\n",
       "      <td>NaN</td>\n",
       "      <td>30154.819188</td>\n",
       "    </tr>\n",
       "    <tr>\n",
       "      <th>1776</th>\n",
       "      <td>20191204</td>\n",
       "      <td>1호선</td>\n",
       "      <td>종로3가</td>\n",
       "      <td>36007</td>\n",
       "      <td>33498</td>\n",
       "      <td>20191207</td>\n",
       "      <td>NaN</td>\n",
       "      <td>31856.529224</td>\n",
       "    </tr>\n",
       "    <tr>\n",
       "      <th>2426</th>\n",
       "      <td>20191205</td>\n",
       "      <td>1호선</td>\n",
       "      <td>종로3가</td>\n",
       "      <td>35536</td>\n",
       "      <td>33702</td>\n",
       "      <td>20191208</td>\n",
       "      <td>32084.6</td>\n",
       "      <td>32755.034944</td>\n",
       "    </tr>\n",
       "    <tr>\n",
       "      <th>2960</th>\n",
       "      <td>20191206</td>\n",
       "      <td>1호선</td>\n",
       "      <td>종로3가</td>\n",
       "      <td>36242</td>\n",
       "      <td>35437</td>\n",
       "      <td>20191209</td>\n",
       "      <td>35403.8</td>\n",
       "      <td>33499.224055</td>\n",
       "    </tr>\n",
       "    <tr>\n",
       "      <th>3602</th>\n",
       "      <td>20191207</td>\n",
       "      <td>1호선</td>\n",
       "      <td>종로3가</td>\n",
       "      <td>37687</td>\n",
       "      <td>36926</td>\n",
       "      <td>20191210</td>\n",
       "      <td>36085.8</td>\n",
       "      <td>34301.936545</td>\n",
       "    </tr>\n",
       "    <tr>\n",
       "      <th>4142</th>\n",
       "      <td>20191208</td>\n",
       "      <td>1호선</td>\n",
       "      <td>종로3가</td>\n",
       "      <td>22809</td>\n",
       "      <td>19859</td>\n",
       "      <td>20191211</td>\n",
       "      <td>33656.2</td>\n",
       "      <td>32283.977835</td>\n",
       "    </tr>\n",
       "  </tbody>\n",
       "</table>\n",
       "</div>"
      ],
      "text/plain": [
       "          사용일자  노선명    역명  승차총승객수  하차총승객수      등록일자     MA_5       EWMA_01\n",
       "1     20191201  1호선  종로3가   19646   17772  20191204      NaN  19646.000000\n",
       "593   20191202  1호선  종로3가   34277   32405  20191205      NaN  27346.526316\n",
       "1184  20191203  1호선  종로3가   34957   32832  20191206      NaN  30154.819188\n",
       "1776  20191204  1호선  종로3가   36007   33498  20191207      NaN  31856.529224\n",
       "2426  20191205  1호선  종로3가   35536   33702  20191208  32084.6  32755.034944\n",
       "2960  20191206  1호선  종로3가   36242   35437  20191209  35403.8  33499.224055\n",
       "3602  20191207  1호선  종로3가   37687   36926  20191210  36085.8  34301.936545\n",
       "4142  20191208  1호선  종로3가   22809   19859  20191211  33656.2  32283.977835"
      ]
     },
     "execution_count": 6,
     "metadata": {},
     "output_type": "execute_result"
    }
   ],
   "source": [
    "df_sub[\"EWMA_01\"] = df_sub[\"승차총승객수\"].ewm(alpha =0.1).mean()\n",
    "df_sub.head(8)"
   ]
  },
  {
   "cell_type": "code",
   "execution_count": 20,
   "id": "dd0dc4d1",
   "metadata": {},
   "outputs": [],
   "source": [
    "from statsmodels.tsa.seasonal import seasonal_decompose"
   ]
  },
  {
   "cell_type": "code",
   "execution_count": 21,
   "id": "90dc880b",
   "metadata": {},
   "outputs": [
    {
     "data": {
      "text/html": [
       "<div>\n",
       "<style scoped>\n",
       "    .dataframe tbody tr th:only-of-type {\n",
       "        vertical-align: middle;\n",
       "    }\n",
       "\n",
       "    .dataframe tbody tr th {\n",
       "        vertical-align: top;\n",
       "    }\n",
       "\n",
       "    .dataframe thead th {\n",
       "        text-align: right;\n",
       "    }\n",
       "</style>\n",
       "<table border=\"1\" class=\"dataframe\">\n",
       "  <thead>\n",
       "    <tr style=\"text-align: right;\">\n",
       "      <th></th>\n",
       "      <th>사용일자</th>\n",
       "      <th>노선명</th>\n",
       "      <th>역명</th>\n",
       "      <th>승차총승객수</th>\n",
       "      <th>하차총승객수</th>\n",
       "      <th>등록일자</th>\n",
       "    </tr>\n",
       "  </thead>\n",
       "  <tbody>\n",
       "    <tr>\n",
       "      <th>0</th>\n",
       "      <td>20191201</td>\n",
       "      <td>1호선</td>\n",
       "      <td>종각</td>\n",
       "      <td>19093</td>\n",
       "      <td>17141</td>\n",
       "      <td>20191204</td>\n",
       "    </tr>\n",
       "    <tr>\n",
       "      <th>1</th>\n",
       "      <td>20191201</td>\n",
       "      <td>1호선</td>\n",
       "      <td>종로3가</td>\n",
       "      <td>19646</td>\n",
       "      <td>17772</td>\n",
       "      <td>20191204</td>\n",
       "    </tr>\n",
       "  </tbody>\n",
       "</table>\n",
       "</div>"
      ],
      "text/plain": [
       "       사용일자  노선명    역명  승차총승객수  하차총승객수      등록일자\n",
       "0  20191201  1호선    종각   19093   17141  20191204\n",
       "1  20191201  1호선  종로3가   19646   17772  20191204"
      ]
     },
     "execution_count": 21,
     "metadata": {},
     "output_type": "execute_result"
    }
   ],
   "source": [
    "df = pd.read_csv(\"실기 Python 실습파일 (2)/seoul_subway.csv\")\n",
    "df.head(2)"
   ]
  },
  {
   "cell_type": "code",
   "execution_count": 22,
   "id": "84e98fa5",
   "metadata": {},
   "outputs": [
    {
     "data": {
      "text/html": [
       "<div>\n",
       "<style scoped>\n",
       "    .dataframe tbody tr th:only-of-type {\n",
       "        vertical-align: middle;\n",
       "    }\n",
       "\n",
       "    .dataframe tbody tr th {\n",
       "        vertical-align: top;\n",
       "    }\n",
       "\n",
       "    .dataframe thead th {\n",
       "        text-align: right;\n",
       "    }\n",
       "</style>\n",
       "<table border=\"1\" class=\"dataframe\">\n",
       "  <thead>\n",
       "    <tr style=\"text-align: right;\">\n",
       "      <th></th>\n",
       "      <th>노선명</th>\n",
       "      <th>역명</th>\n",
       "      <th>승차총승객수</th>\n",
       "      <th>하차총승객수</th>\n",
       "      <th>등록일자</th>\n",
       "    </tr>\n",
       "    <tr>\n",
       "      <th>사용일자</th>\n",
       "      <th></th>\n",
       "      <th></th>\n",
       "      <th></th>\n",
       "      <th></th>\n",
       "      <th></th>\n",
       "    </tr>\n",
       "  </thead>\n",
       "  <tbody>\n",
       "    <tr>\n",
       "      <th>20191201</th>\n",
       "      <td>1호선</td>\n",
       "      <td>종각</td>\n",
       "      <td>19093</td>\n",
       "      <td>17141</td>\n",
       "      <td>20191204</td>\n",
       "    </tr>\n",
       "    <tr>\n",
       "      <th>20191201</th>\n",
       "      <td>1호선</td>\n",
       "      <td>종로3가</td>\n",
       "      <td>19646</td>\n",
       "      <td>17772</td>\n",
       "      <td>20191204</td>\n",
       "    </tr>\n",
       "  </tbody>\n",
       "</table>\n",
       "</div>"
      ],
      "text/plain": [
       "          노선명    역명  승차총승객수  하차총승객수      등록일자\n",
       "사용일자                                         \n",
       "20191201  1호선    종각   19093   17141  20191204\n",
       "20191201  1호선  종로3가   19646   17772  20191204"
      ]
     },
     "execution_count": 22,
     "metadata": {},
     "output_type": "execute_result"
    }
   ],
   "source": [
    "df = df.set_index(\"사용일자\")\n",
    "df.head(2)"
   ]
  },
  {
   "cell_type": "code",
   "execution_count": 23,
   "id": "423602d4",
   "metadata": {},
   "outputs": [
    {
     "data": {
      "text/html": [
       "<div>\n",
       "<style scoped>\n",
       "    .dataframe tbody tr th:only-of-type {\n",
       "        vertical-align: middle;\n",
       "    }\n",
       "\n",
       "    .dataframe tbody tr th {\n",
       "        vertical-align: top;\n",
       "    }\n",
       "\n",
       "    .dataframe thead th {\n",
       "        text-align: right;\n",
       "    }\n",
       "</style>\n",
       "<table border=\"1\" class=\"dataframe\">\n",
       "  <thead>\n",
       "    <tr style=\"text-align: right;\">\n",
       "      <th></th>\n",
       "      <th>노선명</th>\n",
       "      <th>역명</th>\n",
       "      <th>승차총승객수</th>\n",
       "      <th>하차총승객수</th>\n",
       "      <th>등록일자</th>\n",
       "    </tr>\n",
       "    <tr>\n",
       "      <th>사용일자</th>\n",
       "      <th></th>\n",
       "      <th></th>\n",
       "      <th></th>\n",
       "      <th></th>\n",
       "      <th></th>\n",
       "    </tr>\n",
       "  </thead>\n",
       "  <tbody>\n",
       "    <tr>\n",
       "      <th>20191201</th>\n",
       "      <td>1호선</td>\n",
       "      <td>종각</td>\n",
       "      <td>19093</td>\n",
       "      <td>17141</td>\n",
       "      <td>20191204</td>\n",
       "    </tr>\n",
       "    <tr>\n",
       "      <th>20191202</th>\n",
       "      <td>1호선</td>\n",
       "      <td>종각</td>\n",
       "      <td>48153</td>\n",
       "      <td>46770</td>\n",
       "      <td>20191205</td>\n",
       "    </tr>\n",
       "  </tbody>\n",
       "</table>\n",
       "</div>"
      ],
      "text/plain": [
       "          노선명  역명  승차총승객수  하차총승객수      등록일자\n",
       "사용일자                                       \n",
       "20191201  1호선  종각   19093   17141  20191204\n",
       "20191202  1호선  종각   48153   46770  20191205"
      ]
     },
     "execution_count": 23,
     "metadata": {},
     "output_type": "execute_result"
    }
   ],
   "source": [
    "df_sub = df.loc[(df[\"노선명\"] ==\"1호선\")&(df[\"역명\"]== \"종각\"),]\n",
    "df_sub.head(2)"
   ]
  },
  {
   "cell_type": "code",
   "execution_count": 24,
   "id": "b53c60d8",
   "metadata": {},
   "outputs": [
    {
     "data": {
      "text/html": [
       "<div>\n",
       "<style scoped>\n",
       "    .dataframe tbody tr th:only-of-type {\n",
       "        vertical-align: middle;\n",
       "    }\n",
       "\n",
       "    .dataframe tbody tr th {\n",
       "        vertical-align: top;\n",
       "    }\n",
       "\n",
       "    .dataframe thead th {\n",
       "        text-align: right;\n",
       "    }\n",
       "</style>\n",
       "<table border=\"1\" class=\"dataframe\">\n",
       "  <thead>\n",
       "    <tr style=\"text-align: right;\">\n",
       "      <th></th>\n",
       "      <th>사용일자</th>\n",
       "      <th>노선명</th>\n",
       "      <th>역명</th>\n",
       "      <th>승차총승객수</th>\n",
       "      <th>하차총승객수</th>\n",
       "      <th>등록일자</th>\n",
       "    </tr>\n",
       "  </thead>\n",
       "  <tbody>\n",
       "    <tr>\n",
       "      <th>0</th>\n",
       "      <td>20191201</td>\n",
       "      <td>1호선</td>\n",
       "      <td>종각</td>\n",
       "      <td>19093</td>\n",
       "      <td>17141</td>\n",
       "      <td>20191204</td>\n",
       "    </tr>\n",
       "    <tr>\n",
       "      <th>1</th>\n",
       "      <td>20191202</td>\n",
       "      <td>1호선</td>\n",
       "      <td>종각</td>\n",
       "      <td>48153</td>\n",
       "      <td>46770</td>\n",
       "      <td>20191205</td>\n",
       "    </tr>\n",
       "  </tbody>\n",
       "</table>\n",
       "</div>"
      ],
      "text/plain": [
       "       사용일자  노선명  역명  승차총승객수  하차총승객수      등록일자\n",
       "0  20191201  1호선  종각   19093   17141  20191204\n",
       "1  20191202  1호선  종각   48153   46770  20191205"
      ]
     },
     "execution_count": 24,
     "metadata": {},
     "output_type": "execute_result"
    }
   ],
   "source": [
    "#seasonal_decompose(df_sub[\"승차총승객수\"])\n",
    "df_sub = df_sub.reset_index()\n",
    "df_sub.head(2)"
   ]
  },
  {
   "cell_type": "code",
   "execution_count": 25,
   "id": "7ee2de55",
   "metadata": {},
   "outputs": [
    {
     "data": {
      "text/plain": [
       "0   1970-01-01 00:00:00.020191201\n",
       "1   1970-01-01 00:00:00.020191202\n",
       "2   1970-01-01 00:00:00.020191203\n",
       "3   1970-01-01 00:00:00.020191204\n",
       "Name: 사용일자, dtype: datetime64[ns]"
      ]
     },
     "execution_count": 25,
     "metadata": {},
     "output_type": "execute_result"
    }
   ],
   "source": [
    "pd.to_datetime(df_sub[\"사용일자\"][:4])"
   ]
  },
  {
   "cell_type": "code",
   "execution_count": 26,
   "id": "8327f855",
   "metadata": {},
   "outputs": [
    {
     "data": {
      "text/plain": [
       "0   2019-12-01\n",
       "1   2019-12-02\n",
       "2   2019-12-03\n",
       "3   2019-12-04\n",
       "Name: 사용일자, dtype: datetime64[ns]"
      ]
     },
     "execution_count": 26,
     "metadata": {},
     "output_type": "execute_result"
    }
   ],
   "source": [
    "pd.to_datetime(df_sub[\"사용일자\"][:4], format =\"%Y%m%d\")"
   ]
  },
  {
   "cell_type": "code",
   "execution_count": 27,
   "id": "06585f7a",
   "metadata": {},
   "outputs": [
    {
     "data": {
      "text/html": [
       "<div>\n",
       "<style scoped>\n",
       "    .dataframe tbody tr th:only-of-type {\n",
       "        vertical-align: middle;\n",
       "    }\n",
       "\n",
       "    .dataframe tbody tr th {\n",
       "        vertical-align: top;\n",
       "    }\n",
       "\n",
       "    .dataframe thead th {\n",
       "        text-align: right;\n",
       "    }\n",
       "</style>\n",
       "<table border=\"1\" class=\"dataframe\">\n",
       "  <thead>\n",
       "    <tr style=\"text-align: right;\">\n",
       "      <th></th>\n",
       "      <th>사용일자</th>\n",
       "      <th>노선명</th>\n",
       "      <th>역명</th>\n",
       "      <th>승차총승객수</th>\n",
       "      <th>하차총승객수</th>\n",
       "      <th>등록일자</th>\n",
       "    </tr>\n",
       "  </thead>\n",
       "  <tbody>\n",
       "    <tr>\n",
       "      <th>0</th>\n",
       "      <td>2019-12-01</td>\n",
       "      <td>1호선</td>\n",
       "      <td>종각</td>\n",
       "      <td>19093</td>\n",
       "      <td>17141</td>\n",
       "      <td>20191204</td>\n",
       "    </tr>\n",
       "    <tr>\n",
       "      <th>1</th>\n",
       "      <td>2019-12-02</td>\n",
       "      <td>1호선</td>\n",
       "      <td>종각</td>\n",
       "      <td>48153</td>\n",
       "      <td>46770</td>\n",
       "      <td>20191205</td>\n",
       "    </tr>\n",
       "  </tbody>\n",
       "</table>\n",
       "</div>"
      ],
      "text/plain": [
       "        사용일자  노선명  역명  승차총승객수  하차총승객수      등록일자\n",
       "0 2019-12-01  1호선  종각   19093   17141  20191204\n",
       "1 2019-12-02  1호선  종각   48153   46770  20191205"
      ]
     },
     "execution_count": 27,
     "metadata": {},
     "output_type": "execute_result"
    }
   ],
   "source": [
    "df_sub[\"사용일자\"]=pd.to_datetime(df_sub[\"사용일자\"], format =\"%Y%m%d\" )\n",
    "df_sub.head(2)"
   ]
  },
  {
   "cell_type": "code",
   "execution_count": 28,
   "id": "a8233122",
   "metadata": {},
   "outputs": [
    {
     "data": {
      "text/html": [
       "<div>\n",
       "<style scoped>\n",
       "    .dataframe tbody tr th:only-of-type {\n",
       "        vertical-align: middle;\n",
       "    }\n",
       "\n",
       "    .dataframe tbody tr th {\n",
       "        vertical-align: top;\n",
       "    }\n",
       "\n",
       "    .dataframe thead th {\n",
       "        text-align: right;\n",
       "    }\n",
       "</style>\n",
       "<table border=\"1\" class=\"dataframe\">\n",
       "  <thead>\n",
       "    <tr style=\"text-align: right;\">\n",
       "      <th></th>\n",
       "      <th>노선명</th>\n",
       "      <th>역명</th>\n",
       "      <th>승차총승객수</th>\n",
       "      <th>하차총승객수</th>\n",
       "      <th>등록일자</th>\n",
       "    </tr>\n",
       "    <tr>\n",
       "      <th>사용일자</th>\n",
       "      <th></th>\n",
       "      <th></th>\n",
       "      <th></th>\n",
       "      <th></th>\n",
       "      <th></th>\n",
       "    </tr>\n",
       "  </thead>\n",
       "  <tbody>\n",
       "    <tr>\n",
       "      <th>2019-12-01</th>\n",
       "      <td>1호선</td>\n",
       "      <td>종각</td>\n",
       "      <td>19093</td>\n",
       "      <td>17141</td>\n",
       "      <td>20191204</td>\n",
       "    </tr>\n",
       "    <tr>\n",
       "      <th>2019-12-02</th>\n",
       "      <td>1호선</td>\n",
       "      <td>종각</td>\n",
       "      <td>48153</td>\n",
       "      <td>46770</td>\n",
       "      <td>20191205</td>\n",
       "    </tr>\n",
       "  </tbody>\n",
       "</table>\n",
       "</div>"
      ],
      "text/plain": [
       "            노선명  역명  승차총승객수  하차총승객수      등록일자\n",
       "사용일자                                         \n",
       "2019-12-01  1호선  종각   19093   17141  20191204\n",
       "2019-12-02  1호선  종각   48153   46770  20191205"
      ]
     },
     "execution_count": 28,
     "metadata": {},
     "output_type": "execute_result"
    }
   ],
   "source": [
    "df_sub = df_sub.set_index(\"사용일자\")\n",
    "df_sub.head(2)"
   ]
  },
  {
   "cell_type": "code",
   "execution_count": 29,
   "id": "70e5a752",
   "metadata": {},
   "outputs": [
    {
     "data": {
      "text/plain": [
       "<statsmodels.tsa.seasonal.DecomposeResult at 0x15dd809e730>"
      ]
     },
     "execution_count": 29,
     "metadata": {},
     "output_type": "execute_result"
    }
   ],
   "source": [
    "seasonal_decompose(df_sub[\"승차총승객수\"])"
   ]
  },
  {
   "cell_type": "code",
   "execution_count": 32,
   "id": "2826fb70",
   "metadata": {},
   "outputs": [
    {
     "data": {
      "text/plain": [
       "<statsmodels.tsa.seasonal.DecomposeResult at 0x15ddc1d6790>"
      ]
     },
     "execution_count": 32,
     "metadata": {},
     "output_type": "execute_result"
    }
   ],
   "source": [
    "result = seasonal_decompose(df_sub[\"승차총승객수\"][:200])\n",
    "result"
   ]
  },
  {
   "cell_type": "code",
   "execution_count": 33,
   "id": "3e727135",
   "metadata": {},
   "outputs": [
    {
     "data": {
      "image/png": "[encoded data removed]",
      "text/plain": [
       "<Figure size 432x288 with 4 Axes>"
      ]
     },
     "execution_count": 33,
     "metadata": {},
     "output_type": "execute_result"
    },
    {
     "data": {
      "image/png": "[encoded data removed]",
      "text/plain": [
       "<Figure size 432x288 with 4 Axes>"
      ]
     },
     "metadata": {
      "needs_background": "light"
     },
     "output_type": "display_data"
    }
   ],
   "source": [
    "result.plot()"
   ]
  },
  {
   "cell_type": "code",
   "execution_count": 34,
   "id": "9ae4f2a4",
   "metadata": {},
   "outputs": [
    {
     "data": {
      "text/plain": [
       "사용일자\n",
       "2019-12-01             NaN\n",
       "2019-12-02             NaN\n",
       "2019-12-03             NaN\n",
       "2019-12-04    44560.142857\n",
       "2019-12-05    44932.000000\n",
       "                  ...     \n",
       "2020-06-13    31186.714286\n",
       "2020-06-14    31021.857143\n",
       "2020-06-15             NaN\n",
       "2020-06-16             NaN\n",
       "2020-06-17             NaN\n",
       "Name: trend, Length: 200, dtype: float64"
      ]
     },
     "execution_count": 34,
     "metadata": {},
     "output_type": "execute_result"
    }
   ],
   "source": [
    "result.trend"
   ]
  },
  {
   "cell_type": "markdown",
   "id": "617c2c11",
   "metadata": {},
   "source": [
    "Q1."
   ]
  },
  {
   "cell_type": "markdown",
   "id": "cc880ed2",
   "metadata": {},
   "source": [
    "Q2."
   ]
  },
  {
   "cell_type": "code",
   "execution_count": 35,
   "id": "249d7dd2",
   "metadata": {},
   "outputs": [
    {
     "data": {
      "text/html": [
       "<div>\n",
       "<style scoped>\n",
       "    .dataframe tbody tr th:only-of-type {\n",
       "        vertical-align: middle;\n",
       "    }\n",
       "\n",
       "    .dataframe tbody tr th {\n",
       "        vertical-align: top;\n",
       "    }\n",
       "\n",
       "    .dataframe thead th {\n",
       "        text-align: right;\n",
       "    }\n",
       "</style>\n",
       "<table border=\"1\" class=\"dataframe\">\n",
       "  <thead>\n",
       "    <tr style=\"text-align: right;\">\n",
       "      <th></th>\n",
       "      <th>사용일자</th>\n",
       "      <th>노선명</th>\n",
       "      <th>역명</th>\n",
       "      <th>승차총승객수</th>\n",
       "      <th>하차총승객수</th>\n",
       "      <th>등록일자</th>\n",
       "    </tr>\n",
       "  </thead>\n",
       "  <tbody>\n",
       "    <tr>\n",
       "      <th>0</th>\n",
       "      <td>20191201</td>\n",
       "      <td>1호선</td>\n",
       "      <td>종각</td>\n",
       "      <td>19093</td>\n",
       "      <td>17141</td>\n",
       "      <td>20191204</td>\n",
       "    </tr>\n",
       "    <tr>\n",
       "      <th>1</th>\n",
       "      <td>20191201</td>\n",
       "      <td>1호선</td>\n",
       "      <td>종로3가</td>\n",
       "      <td>19646</td>\n",
       "      <td>17772</td>\n",
       "      <td>20191204</td>\n",
       "    </tr>\n",
       "  </tbody>\n",
       "</table>\n",
       "</div>"
      ],
      "text/plain": [
       "       사용일자  노선명    역명  승차총승객수  하차총승객수      등록일자\n",
       "0  20191201  1호선    종각   19093   17141  20191204\n",
       "1  20191201  1호선  종로3가   19646   17772  20191204"
      ]
     },
     "execution_count": 35,
     "metadata": {},
     "output_type": "execute_result"
    }
   ],
   "source": [
    "df = pd.read_csv(\"실기 Python 실습파일 (2)/seoul_subway.csv\")\n",
    "df.head(2)"
   ]
  },
  {
   "cell_type": "code",
   "execution_count": 36,
   "id": "bbdb9d52",
   "metadata": {},
   "outputs": [],
   "source": [
    "df_sub = df.loc[(df[\"노선명\"] ==\"6호선\")&(df[\"역명\"]== \"이태원\"),]"
   ]
  },
  {
   "cell_type": "code",
   "execution_count": 39,
   "id": "632f51b6",
   "metadata": {},
   "outputs": [
    {
     "name": "stderr",
     "output_type": "stream",
     "text": [
      "C:\\Users\\82103\\AppData\\Local\\Temp/ipykernel_24528/2263447450.py:1: SettingWithCopyWarning: \n",
      "A value is trying to be set on a copy of a slice from a DataFrame.\n",
      "Try using .loc[row_indexer,col_indexer] = value instead\n",
      "\n",
      "See the caveats in the documentation: https://pandas.pydata.org/pandas-docs/stable/user_guide/indexing.html#returning-a-view-versus-a-copy\n",
      "  df_sub[\"하차_EWMA_01\"] = df_sub[\"하차총승객수\"].ewm(alpha =0.1).mean()\n",
      "C:\\Users\\82103\\AppData\\Local\\Temp/ipykernel_24528/2263447450.py:2: SettingWithCopyWarning: \n",
      "A value is trying to be set on a copy of a slice from a DataFrame.\n",
      "Try using .loc[row_indexer,col_indexer] = value instead\n",
      "\n",
      "See the caveats in the documentation: https://pandas.pydata.org/pandas-docs/stable/user_guide/indexing.html#returning-a-view-versus-a-copy\n",
      "  df_sub[\"하차_EWMA_09\"] = df_sub[\"하차총승객수\"].ewm(alpha =0.9).mean()\n"
     ]
    },
    {
     "data": {
      "text/html": [
       "<div>\n",
       "<style scoped>\n",
       "    .dataframe tbody tr th:only-of-type {\n",
       "        vertical-align: middle;\n",
       "    }\n",
       "\n",
       "    .dataframe tbody tr th {\n",
       "        vertical-align: top;\n",
       "    }\n",
       "\n",
       "    .dataframe thead th {\n",
       "        text-align: right;\n",
       "    }\n",
       "</style>\n",
       "<table border=\"1\" class=\"dataframe\">\n",
       "  <thead>\n",
       "    <tr style=\"text-align: right;\">\n",
       "      <th></th>\n",
       "      <th>사용일자</th>\n",
       "      <th>노선명</th>\n",
       "      <th>역명</th>\n",
       "      <th>승차총승객수</th>\n",
       "      <th>하차총승객수</th>\n",
       "      <th>등록일자</th>\n",
       "      <th>하차_EWMA_01</th>\n",
       "      <th>하차_EWMA_09</th>\n",
       "    </tr>\n",
       "  </thead>\n",
       "  <tbody>\n",
       "    <tr>\n",
       "      <th>439</th>\n",
       "      <td>20191201</td>\n",
       "      <td>6호선</td>\n",
       "      <td>이태원</td>\n",
       "      <td>15817</td>\n",
       "      <td>12541</td>\n",
       "      <td>20191204</td>\n",
       "      <td>12541.000000</td>\n",
       "      <td>12541.000000</td>\n",
       "    </tr>\n",
       "    <tr>\n",
       "      <th>1030</th>\n",
       "      <td>20191202</td>\n",
       "      <td>6호선</td>\n",
       "      <td>이태원</td>\n",
       "      <td>12771</td>\n",
       "      <td>12974</td>\n",
       "      <td>20191205</td>\n",
       "      <td>12768.894737</td>\n",
       "      <td>12934.636364</td>\n",
       "    </tr>\n",
       "  </tbody>\n",
       "</table>\n",
       "</div>"
      ],
      "text/plain": [
       "          사용일자  노선명   역명  승차총승객수  하차총승객수      등록일자    하차_EWMA_01    하차_EWMA_09\n",
       "439   20191201  6호선  이태원   15817   12541  20191204  12541.000000  12541.000000\n",
       "1030  20191202  6호선  이태원   12771   12974  20191205  12768.894737  12934.636364"
      ]
     },
     "execution_count": 39,
     "metadata": {},
     "output_type": "execute_result"
    }
   ],
   "source": [
    "df_sub[\"하차_EWMA_01\"] = df_sub[\"하차총승객수\"].ewm(alpha =0.1).mean()\n",
    "df_sub[\"하차_EWMA_09\"] = df_sub[\"하차총승객수\"].ewm(alpha =0.9).mean()\n",
    "df_sub.head(2)"
   ]
  },
  {
   "cell_type": "code",
   "execution_count": 40,
   "id": "c2dd09bb",
   "metadata": {},
   "outputs": [
    {
     "data": {
      "text/html": [
       "<div>\n",
       "<style scoped>\n",
       "    .dataframe tbody tr th:only-of-type {\n",
       "        vertical-align: middle;\n",
       "    }\n",
       "\n",
       "    .dataframe tbody tr th {\n",
       "        vertical-align: top;\n",
       "    }\n",
       "\n",
       "    .dataframe thead th {\n",
       "        text-align: right;\n",
       "    }\n",
       "</style>\n",
       "<table border=\"1\" class=\"dataframe\">\n",
       "  <thead>\n",
       "    <tr style=\"text-align: right;\">\n",
       "      <th></th>\n",
       "      <th>사용일자</th>\n",
       "      <th>노선명</th>\n",
       "      <th>역명</th>\n",
       "      <th>승차총승객수</th>\n",
       "      <th>하차총승객수</th>\n",
       "      <th>등록일자</th>\n",
       "      <th>하차_EWMA_01</th>\n",
       "      <th>하차_EWMA_09</th>\n",
       "    </tr>\n",
       "  </thead>\n",
       "  <tbody>\n",
       "    <tr>\n",
       "      <th>216071</th>\n",
       "      <td>20201129</td>\n",
       "      <td>6호선</td>\n",
       "      <td>이태원</td>\n",
       "      <td>5239</td>\n",
       "      <td>4996</td>\n",
       "      <td>20201202</td>\n",
       "      <td>8297.397173</td>\n",
       "      <td>5167.201462</td>\n",
       "    </tr>\n",
       "    <tr>\n",
       "      <th>216590</th>\n",
       "      <td>20201130</td>\n",
       "      <td>6호선</td>\n",
       "      <td>이태원</td>\n",
       "      <td>7059</td>\n",
       "      <td>7109</td>\n",
       "      <td>20201203</td>\n",
       "      <td>8178.557456</td>\n",
       "      <td>6914.820146</td>\n",
       "    </tr>\n",
       "  </tbody>\n",
       "</table>\n",
       "</div>"
      ],
      "text/plain": [
       "            사용일자  노선명   역명  승차총승객수  하차총승객수      등록일자   하차_EWMA_01   하차_EWMA_09\n",
       "216071  20201129  6호선  이태원    5239    4996  20201202  8297.397173  5167.201462\n",
       "216590  20201130  6호선  이태원    7059    7109  20201203  8178.557456  6914.820146"
      ]
     },
     "execution_count": 40,
     "metadata": {},
     "output_type": "execute_result"
    }
   ],
   "source": [
    "df_sub.tail(2)"
   ]
  },
  {
   "cell_type": "code",
   "execution_count": 42,
   "id": "8a32a228",
   "metadata": {},
   "outputs": [
    {
     "name": "stderr",
     "output_type": "stream",
     "text": [
      "C:\\Users\\82103\\AppData\\Local\\Temp/ipykernel_24528/2616351202.py:1: SettingWithCopyWarning: \n",
      "A value is trying to be set on a copy of a slice from a DataFrame.\n",
      "Try using .loc[row_indexer,col_indexer] = value instead\n",
      "\n",
      "See the caveats in the documentation: https://pandas.pydata.org/pandas-docs/stable/user_guide/indexing.html#returning-a-view-versus-a-copy\n",
      "  df_sub[\"diff\"]=df_sub[\"하차_EWMA_01\"]-df_sub[\"하차_EWMA_09\"]\n"
     ]
    },
    {
     "data": {
      "text/html": [
       "<div>\n",
       "<style scoped>\n",
       "    .dataframe tbody tr th:only-of-type {\n",
       "        vertical-align: middle;\n",
       "    }\n",
       "\n",
       "    .dataframe tbody tr th {\n",
       "        vertical-align: top;\n",
       "    }\n",
       "\n",
       "    .dataframe thead th {\n",
       "        text-align: right;\n",
       "    }\n",
       "</style>\n",
       "<table border=\"1\" class=\"dataframe\">\n",
       "  <thead>\n",
       "    <tr style=\"text-align: right;\">\n",
       "      <th></th>\n",
       "      <th>사용일자</th>\n",
       "      <th>노선명</th>\n",
       "      <th>역명</th>\n",
       "      <th>승차총승객수</th>\n",
       "      <th>하차총승객수</th>\n",
       "      <th>등록일자</th>\n",
       "      <th>하차_EWMA_01</th>\n",
       "      <th>하차_EWMA_09</th>\n",
       "      <th>diff</th>\n",
       "    </tr>\n",
       "  </thead>\n",
       "  <tbody>\n",
       "    <tr>\n",
       "      <th>216071</th>\n",
       "      <td>20201129</td>\n",
       "      <td>6호선</td>\n",
       "      <td>이태원</td>\n",
       "      <td>5239</td>\n",
       "      <td>4996</td>\n",
       "      <td>20201202</td>\n",
       "      <td>8297.397173</td>\n",
       "      <td>5167.201462</td>\n",
       "      <td>3130.195711</td>\n",
       "    </tr>\n",
       "    <tr>\n",
       "      <th>216590</th>\n",
       "      <td>20201130</td>\n",
       "      <td>6호선</td>\n",
       "      <td>이태원</td>\n",
       "      <td>7059</td>\n",
       "      <td>7109</td>\n",
       "      <td>20201203</td>\n",
       "      <td>8178.557456</td>\n",
       "      <td>6914.820146</td>\n",
       "      <td>1263.737309</td>\n",
       "    </tr>\n",
       "  </tbody>\n",
       "</table>\n",
       "</div>"
      ],
      "text/plain": [
       "            사용일자  노선명   역명  승차총승객수  하차총승객수      등록일자   하차_EWMA_01  \\\n",
       "216071  20201129  6호선  이태원    5239    4996  20201202  8297.397173   \n",
       "216590  20201130  6호선  이태원    7059    7109  20201203  8178.557456   \n",
       "\n",
       "         하차_EWMA_09         diff  \n",
       "216071  5167.201462  3130.195711  \n",
       "216590  6914.820146  1263.737309  "
      ]
     },
     "execution_count": 42,
     "metadata": {},
     "output_type": "execute_result"
    }
   ],
   "source": [
    "df_sub[\"diff\"]=df_sub[\"하차_EWMA_01\"]-df_sub[\"하차_EWMA_09\"]\n",
    "df_sub.tail(2)"
   ]
  },
  {
   "cell_type": "markdown",
   "id": "1531cdf7",
   "metadata": {},
   "source": [
    "Q3"
   ]
  },
  {
   "cell_type": "code",
   "execution_count": 49,
   "id": "315e135c",
   "metadata": {},
   "outputs": [
    {
     "data": {
      "text/html": [
       "<div>\n",
       "<style scoped>\n",
       "    .dataframe tbody tr th:only-of-type {\n",
       "        vertical-align: middle;\n",
       "    }\n",
       "\n",
       "    .dataframe tbody tr th {\n",
       "        vertical-align: top;\n",
       "    }\n",
       "\n",
       "    .dataframe thead th {\n",
       "        text-align: right;\n",
       "    }\n",
       "</style>\n",
       "<table border=\"1\" class=\"dataframe\">\n",
       "  <thead>\n",
       "    <tr style=\"text-align: right;\">\n",
       "      <th></th>\n",
       "      <th>사용일자</th>\n",
       "      <th>노선명</th>\n",
       "      <th>역명</th>\n",
       "      <th>승차총승객수</th>\n",
       "      <th>하차총승객수</th>\n",
       "      <th>등록일자</th>\n",
       "    </tr>\n",
       "  </thead>\n",
       "  <tbody>\n",
       "    <tr>\n",
       "      <th>0</th>\n",
       "      <td>20191201</td>\n",
       "      <td>1호선</td>\n",
       "      <td>종각</td>\n",
       "      <td>19093</td>\n",
       "      <td>17141</td>\n",
       "      <td>20191204</td>\n",
       "    </tr>\n",
       "    <tr>\n",
       "      <th>1</th>\n",
       "      <td>20191201</td>\n",
       "      <td>1호선</td>\n",
       "      <td>종로3가</td>\n",
       "      <td>19646</td>\n",
       "      <td>17772</td>\n",
       "      <td>20191204</td>\n",
       "    </tr>\n",
       "  </tbody>\n",
       "</table>\n",
       "</div>"
      ],
      "text/plain": [
       "       사용일자  노선명    역명  승차총승객수  하차총승객수      등록일자\n",
       "0  20191201  1호선    종각   19093   17141  20191204\n",
       "1  20191201  1호선  종로3가   19646   17772  20191204"
      ]
     },
     "execution_count": 49,
     "metadata": {},
     "output_type": "execute_result"
    }
   ],
   "source": [
    "sub = pd.read_csv(\"실기 Python 실습파일 (2)/seoul_subway.csv\")\n",
    "sub.head(2)"
   ]
  },
  {
   "cell_type": "code",
   "execution_count": 50,
   "id": "dbb03126",
   "metadata": {},
   "outputs": [
    {
     "data": {
      "text/html": [
       "<div>\n",
       "<style scoped>\n",
       "    .dataframe tbody tr th:only-of-type {\n",
       "        vertical-align: middle;\n",
       "    }\n",
       "\n",
       "    .dataframe tbody tr th {\n",
       "        vertical-align: top;\n",
       "    }\n",
       "\n",
       "    .dataframe thead th {\n",
       "        text-align: right;\n",
       "    }\n",
       "</style>\n",
       "<table border=\"1\" class=\"dataframe\">\n",
       "  <thead>\n",
       "    <tr style=\"text-align: right;\">\n",
       "      <th></th>\n",
       "      <th>사용일자</th>\n",
       "      <th>노선명</th>\n",
       "      <th>역명</th>\n",
       "      <th>승차총승객수</th>\n",
       "      <th>하차총승객수</th>\n",
       "      <th>등록일자</th>\n",
       "    </tr>\n",
       "  </thead>\n",
       "  <tbody>\n",
       "    <tr>\n",
       "      <th>76</th>\n",
       "      <td>20191201</td>\n",
       "      <td>3호선</td>\n",
       "      <td>신사</td>\n",
       "      <td>18120</td>\n",
       "      <td>18435</td>\n",
       "      <td>20191204</td>\n",
       "    </tr>\n",
       "    <tr>\n",
       "      <th>668</th>\n",
       "      <td>20191202</td>\n",
       "      <td>3호선</td>\n",
       "      <td>신사</td>\n",
       "      <td>34918</td>\n",
       "      <td>37450</td>\n",
       "      <td>20191205</td>\n",
       "    </tr>\n",
       "  </tbody>\n",
       "</table>\n",
       "</div>"
      ],
      "text/plain": [
       "         사용일자  노선명  역명  승차총승객수  하차총승객수      등록일자\n",
       "76   20191201  3호선  신사   18120   18435  20191204\n",
       "668  20191202  3호선  신사   34918   37450  20191205"
      ]
     },
     "execution_count": 50,
     "metadata": {},
     "output_type": "execute_result"
    }
   ],
   "source": [
    "sub = sub.loc[(sub[\"노선명\"] ==\"3호선\")&(sub[\"역명\"]== \"신사\"),]\n",
    "sub.head(2)"
   ]
  },
  {
   "cell_type": "code",
   "execution_count": 51,
   "id": "1787e56b",
   "metadata": {},
   "outputs": [
    {
     "data": {
      "text/html": [
       "<div>\n",
       "<style scoped>\n",
       "    .dataframe tbody tr th:only-of-type {\n",
       "        vertical-align: middle;\n",
       "    }\n",
       "\n",
       "    .dataframe tbody tr th {\n",
       "        vertical-align: top;\n",
       "    }\n",
       "\n",
       "    .dataframe thead th {\n",
       "        text-align: right;\n",
       "    }\n",
       "</style>\n",
       "<table border=\"1\" class=\"dataframe\">\n",
       "  <thead>\n",
       "    <tr style=\"text-align: right;\">\n",
       "      <th></th>\n",
       "      <th>사용일자</th>\n",
       "      <th>노선명</th>\n",
       "      <th>역명</th>\n",
       "      <th>승차총승객수</th>\n",
       "      <th>하차총승객수</th>\n",
       "      <th>등록일자</th>\n",
       "      <th>date</th>\n",
       "    </tr>\n",
       "  </thead>\n",
       "  <tbody>\n",
       "    <tr>\n",
       "      <th>76</th>\n",
       "      <td>20191201</td>\n",
       "      <td>3호선</td>\n",
       "      <td>신사</td>\n",
       "      <td>18120</td>\n",
       "      <td>18435</td>\n",
       "      <td>20191204</td>\n",
       "      <td>2019-12-01</td>\n",
       "    </tr>\n",
       "    <tr>\n",
       "      <th>668</th>\n",
       "      <td>20191202</td>\n",
       "      <td>3호선</td>\n",
       "      <td>신사</td>\n",
       "      <td>34918</td>\n",
       "      <td>37450</td>\n",
       "      <td>20191205</td>\n",
       "      <td>2019-12-02</td>\n",
       "    </tr>\n",
       "  </tbody>\n",
       "</table>\n",
       "</div>"
      ],
      "text/plain": [
       "         사용일자  노선명  역명  승차총승객수  하차총승객수      등록일자       date\n",
       "76   20191201  3호선  신사   18120   18435  20191204 2019-12-01\n",
       "668  20191202  3호선  신사   34918   37450  20191205 2019-12-02"
      ]
     },
     "execution_count": 51,
     "metadata": {},
     "output_type": "execute_result"
    }
   ],
   "source": [
    "sub[\"date\"]=pd.to_datetime(sub[\"사용일자\"], format =\"%Y%m%d\" )\n",
    "sub.head(2)"
   ]
  },
  {
   "cell_type": "code",
   "execution_count": 52,
   "id": "ae819089",
   "metadata": {},
   "outputs": [
    {
     "data": {
      "text/html": [
       "<div>\n",
       "<style scoped>\n",
       "    .dataframe tbody tr th:only-of-type {\n",
       "        vertical-align: middle;\n",
       "    }\n",
       "\n",
       "    .dataframe tbody tr th {\n",
       "        vertical-align: top;\n",
       "    }\n",
       "\n",
       "    .dataframe thead th {\n",
       "        text-align: right;\n",
       "    }\n",
       "</style>\n",
       "<table border=\"1\" class=\"dataframe\">\n",
       "  <thead>\n",
       "    <tr style=\"text-align: right;\">\n",
       "      <th></th>\n",
       "      <th>사용일자</th>\n",
       "      <th>노선명</th>\n",
       "      <th>역명</th>\n",
       "      <th>승차총승객수</th>\n",
       "      <th>하차총승객수</th>\n",
       "      <th>등록일자</th>\n",
       "    </tr>\n",
       "    <tr>\n",
       "      <th>date</th>\n",
       "      <th></th>\n",
       "      <th></th>\n",
       "      <th></th>\n",
       "      <th></th>\n",
       "      <th></th>\n",
       "      <th></th>\n",
       "    </tr>\n",
       "  </thead>\n",
       "  <tbody>\n",
       "    <tr>\n",
       "      <th>2019-12-01</th>\n",
       "      <td>20191201</td>\n",
       "      <td>3호선</td>\n",
       "      <td>신사</td>\n",
       "      <td>18120</td>\n",
       "      <td>18435</td>\n",
       "      <td>20191204</td>\n",
       "    </tr>\n",
       "    <tr>\n",
       "      <th>2019-12-02</th>\n",
       "      <td>20191202</td>\n",
       "      <td>3호선</td>\n",
       "      <td>신사</td>\n",
       "      <td>34918</td>\n",
       "      <td>37450</td>\n",
       "      <td>20191205</td>\n",
       "    </tr>\n",
       "    <tr>\n",
       "      <th>2019-12-03</th>\n",
       "      <td>20191203</td>\n",
       "      <td>3호선</td>\n",
       "      <td>신사</td>\n",
       "      <td>36095</td>\n",
       "      <td>38205</td>\n",
       "      <td>20191206</td>\n",
       "    </tr>\n",
       "    <tr>\n",
       "      <th>2019-12-04</th>\n",
       "      <td>20191204</td>\n",
       "      <td>3호선</td>\n",
       "      <td>신사</td>\n",
       "      <td>35617</td>\n",
       "      <td>38286</td>\n",
       "      <td>20191207</td>\n",
       "    </tr>\n",
       "    <tr>\n",
       "      <th>2019-12-05</th>\n",
       "      <td>20191205</td>\n",
       "      <td>3호선</td>\n",
       "      <td>신사</td>\n",
       "      <td>35749</td>\n",
       "      <td>38480</td>\n",
       "      <td>20191208</td>\n",
       "    </tr>\n",
       "  </tbody>\n",
       "</table>\n",
       "</div>"
      ],
      "text/plain": [
       "                사용일자  노선명  역명  승차총승객수  하차총승객수      등록일자\n",
       "date                                                   \n",
       "2019-12-01  20191201  3호선  신사   18120   18435  20191204\n",
       "2019-12-02  20191202  3호선  신사   34918   37450  20191205\n",
       "2019-12-03  20191203  3호선  신사   36095   38205  20191206\n",
       "2019-12-04  20191204  3호선  신사   35617   38286  20191207\n",
       "2019-12-05  20191205  3호선  신사   35749   38480  20191208"
      ]
     },
     "execution_count": 52,
     "metadata": {},
     "output_type": "execute_result"
    }
   ],
   "source": [
    "sub = sub.set_index(\"date\")\n",
    "sub.head()"
   ]
  },
  {
   "cell_type": "code",
   "execution_count": 53,
   "id": "4c0bfedb",
   "metadata": {},
   "outputs": [],
   "source": [
    "td=seasonal_decompose(sub[\"승차총승객수\"],\n",
    "                      model = \"addictive\",\n",
    "                      extrapolate_trend = 1)"
   ]
  },
  {
   "cell_type": "code",
   "execution_count": 54,
   "id": "4d25ecff",
   "metadata": {},
   "outputs": [
    {
     "data": {
      "text/plain": [
       "date\n",
       "2020-11-26    23306.571429\n",
       "2020-11-27    22918.285714\n",
       "2020-11-28    22202.571429\n",
       "2020-11-29    21650.571429\n",
       "2020-11-30    21098.571429\n",
       "Name: trend, dtype: float64"
      ]
     },
     "execution_count": 54,
     "metadata": {},
     "output_type": "execute_result"
    }
   ],
   "source": [
    "td.trend.tail()"
   ]
  },
  {
   "cell_type": "code",
   "execution_count": null,
   "id": "b846bedc",
   "metadata": {},
   "outputs": [],
   "source": []
  }
 ],
 "metadata": {
  "kernelspec": {
   "display_name": "Python 3 (ipykernel)",
   "language": "python",
   "name": "python3"
  },
  "language_info": {
   "codemirror_mode": {
    "name": "ipython",
    "version": 3
   },
   "file_extension": ".py",
   "mimetype": "text/x-python",
   "name": "python",
   "nbconvert_exporter": "python",
   "pygments_lexer": "ipython3",
   "version": "3.9.7"
  }
 },
 "nbformat": 4,
 "nbformat_minor": 5
}
