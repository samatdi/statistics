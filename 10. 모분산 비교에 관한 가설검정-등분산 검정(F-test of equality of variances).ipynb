{
 "cells": [
  {
   "cell_type": "markdown",
   "id": "d5218a79",
   "metadata": {},
   "source": [
    "파이썬에는 f검정이 없다. 통계보다는 머신러닝에 특화"
   ]
  },
  {
   "cell_type": "code",
   "execution_count": 1,
   "id": "beaee95d",
   "metadata": {},
   "outputs": [],
   "source": [
    "import pandas as pd\n",
    "from scipy.stats import f\n",
    "from scipy.stats import bartlett\n",
    "from scipy.stats import levene"
   ]
  },
  {
   "cell_type": "markdown",
   "id": "fb0c77fa",
   "metadata": {},
   "source": [
    "# F검정"
   ]
  },
  {
   "cell_type": "code",
   "execution_count": 2,
   "id": "a2e4e31a",
   "metadata": {},
   "outputs": [
    {
     "data": {
      "text/html": [
       "<div>\n",
       "<style scoped>\n",
       "    .dataframe tbody tr th:only-of-type {\n",
       "        vertical-align: middle;\n",
       "    }\n",
       "\n",
       "    .dataframe tbody tr th {\n",
       "        vertical-align: top;\n",
       "    }\n",
       "\n",
       "    .dataframe thead th {\n",
       "        text-align: right;\n",
       "    }\n",
       "</style>\n",
       "<table border=\"1\" class=\"dataframe\">\n",
       "  <thead>\n",
       "    <tr style=\"text-align: right;\">\n",
       "      <th></th>\n",
       "      <th>ID</th>\n",
       "      <th>is_attrited</th>\n",
       "      <th>Age</th>\n",
       "      <th>Gender</th>\n",
       "      <th>Dependent_cnt</th>\n",
       "      <th>Edu_level</th>\n",
       "      <th>Marital_status</th>\n",
       "      <th>Income</th>\n",
       "      <th>Card</th>\n",
       "      <th>Period_m</th>\n",
       "      <th>Total_rel_cnt</th>\n",
       "      <th>Inactive_last_12m</th>\n",
       "      <th>Contacts_cnt_last_12m</th>\n",
       "      <th>Credit_limit</th>\n",
       "      <th>Total_trans_amt</th>\n",
       "      <th>Total_trans_cnt</th>\n",
       "    </tr>\n",
       "  </thead>\n",
       "  <tbody>\n",
       "    <tr>\n",
       "      <th>0</th>\n",
       "      <td>1</td>\n",
       "      <td>0</td>\n",
       "      <td>41</td>\n",
       "      <td>F</td>\n",
       "      <td>2</td>\n",
       "      <td>High School</td>\n",
       "      <td>Married</td>\n",
       "      <td>Less than $40K</td>\n",
       "      <td>Blue</td>\n",
       "      <td>36</td>\n",
       "      <td>6</td>\n",
       "      <td>2</td>\n",
       "      <td>2</td>\n",
       "      <td>4953.0</td>\n",
       "      <td>4183</td>\n",
       "      <td>67</td>\n",
       "    </tr>\n",
       "    <tr>\n",
       "      <th>1</th>\n",
       "      <td>2</td>\n",
       "      <td>0</td>\n",
       "      <td>38</td>\n",
       "      <td>M</td>\n",
       "      <td>0</td>\n",
       "      <td>High School</td>\n",
       "      <td>Single</td>\n",
       "      <td>$80K - $120K</td>\n",
       "      <td>Blue</td>\n",
       "      <td>29</td>\n",
       "      <td>3</td>\n",
       "      <td>3</td>\n",
       "      <td>2</td>\n",
       "      <td>5983.0</td>\n",
       "      <td>4141</td>\n",
       "      <td>65</td>\n",
       "    </tr>\n",
       "  </tbody>\n",
       "</table>\n",
       "</div>"
      ],
      "text/plain": [
       "   ID  is_attrited  Age Gender  Dependent_cnt    Edu_level Marital_status  \\\n",
       "0   1            0   41      F              2  High School        Married   \n",
       "1   2            0   38      M              0  High School         Single   \n",
       "\n",
       "           Income  Card  Period_m  Total_rel_cnt  Inactive_last_12m  \\\n",
       "0  Less than $40K  Blue        36              6                  2   \n",
       "1    $80K - $120K  Blue        29              3                  3   \n",
       "\n",
       "   Contacts_cnt_last_12m  Credit_limit  Total_trans_amt  Total_trans_cnt  \n",
       "0                      2        4953.0             4183               67  \n",
       "1                      2        5983.0             4141               65  "
      ]
     },
     "execution_count": 2,
     "metadata": {},
     "output_type": "execute_result"
    }
   ],
   "source": [
    "df = pd.read_csv(\"실기 Python 실습파일 (2)/financial_info_10k_persons.csv\")\n",
    "df.head(2)"
   ]
  },
  {
   "cell_type": "code",
   "execution_count": 3,
   "id": "d39e3722",
   "metadata": {},
   "outputs": [],
   "source": [
    "ser_M = df.loc[df[\"Gender\"] == \"M\", \"Period_m\"]\n",
    "ser_F = df.loc[df[\"Gender\"] == \"F\", \"Period_m\"]"
   ]
  },
  {
   "cell_type": "code",
   "execution_count": 4,
   "id": "5c2b8364",
   "metadata": {},
   "outputs": [
    {
     "data": {
      "text/plain": [
       "1.040426345317289"
      ]
     },
     "execution_count": 4,
     "metadata": {},
     "output_type": "execute_result"
    }
   ],
   "source": [
    "F = ser_M.var()/ser_F.var()\n",
    "F"
   ]
  },
  {
   "cell_type": "code",
   "execution_count": 5,
   "id": "850f8966",
   "metadata": {},
   "outputs": [
    {
     "data": {
      "text/plain": [
       "0.9187893064992898"
      ]
     },
     "execution_count": 5,
     "metadata": {},
     "output_type": "execute_result"
    }
   ],
   "source": [
    "result = f.cdf(F, dfd = len(ser_M)-1,dfn = len(ser_F))\n",
    "result"
   ]
  },
  {
   "cell_type": "code",
   "execution_count": 6,
   "id": "82f62a4e",
   "metadata": {},
   "outputs": [
    {
     "data": {
      "text/plain": [
       "0.1624213870014204"
      ]
     },
     "execution_count": 6,
     "metadata": {},
     "output_type": "execute_result"
    }
   ],
   "source": [
    "p = (1-result)*2 #p-value\n",
    "p"
   ]
  },
  {
   "cell_type": "code",
   "execution_count": 7,
   "id": "565bd5eb",
   "metadata": {},
   "outputs": [
    {
     "data": {
      "text/plain": [
       "BartlettResult(statistic=1.9563015878266161, pvalue=0.16190940989253869)"
      ]
     },
     "execution_count": 7,
     "metadata": {},
     "output_type": "execute_result"
    }
   ],
   "source": [
    "bartlett(ser_F,ser_M)"
   ]
  },
  {
   "cell_type": "code",
   "execution_count": 9,
   "id": "05f0a555",
   "metadata": {},
   "outputs": [
    {
     "data": {
      "text/plain": [
       "1.9563015878266161"
      ]
     },
     "execution_count": 9,
     "metadata": {},
     "output_type": "execute_result"
    }
   ],
   "source": [
    "stat, p = bartlett(ser_F,ser_M)\n",
    "stat"
   ]
  },
  {
   "cell_type": "code",
   "execution_count": 10,
   "id": "cf1d04d6",
   "metadata": {},
   "outputs": [
    {
     "data": {
      "text/plain": [
       "LeveneResult(statistic=2.4640198991740747, pvalue=0.11651198398605053)"
      ]
     },
     "execution_count": 10,
     "metadata": {},
     "output_type": "execute_result"
    }
   ],
   "source": [
    "levene(ser_F,ser_M)"
   ]
  },
  {
   "cell_type": "markdown",
   "id": "8cd64aac",
   "metadata": {},
   "source": [
    "Q1."
   ]
  },
  {
   "cell_type": "code",
   "execution_count": 11,
   "id": "1a53bce3",
   "metadata": {},
   "outputs": [
    {
     "data": {
      "text/html": [
       "<div>\n",
       "<style scoped>\n",
       "    .dataframe tbody tr th:only-of-type {\n",
       "        vertical-align: middle;\n",
       "    }\n",
       "\n",
       "    .dataframe tbody tr th {\n",
       "        vertical-align: top;\n",
       "    }\n",
       "\n",
       "    .dataframe thead th {\n",
       "        text-align: right;\n",
       "    }\n",
       "</style>\n",
       "<table border=\"1\" class=\"dataframe\">\n",
       "  <thead>\n",
       "    <tr style=\"text-align: right;\">\n",
       "      <th></th>\n",
       "      <th>ID</th>\n",
       "      <th>is_attrited</th>\n",
       "      <th>Age</th>\n",
       "      <th>Gender</th>\n",
       "      <th>Dependent_cnt</th>\n",
       "      <th>Edu_level</th>\n",
       "      <th>Marital_status</th>\n",
       "      <th>Income</th>\n",
       "      <th>Card</th>\n",
       "      <th>Period_m</th>\n",
       "      <th>Total_rel_cnt</th>\n",
       "      <th>Inactive_last_12m</th>\n",
       "      <th>Contacts_cnt_last_12m</th>\n",
       "      <th>Credit_limit</th>\n",
       "      <th>Total_trans_amt</th>\n",
       "      <th>Total_trans_cnt</th>\n",
       "    </tr>\n",
       "  </thead>\n",
       "  <tbody>\n",
       "    <tr>\n",
       "      <th>0</th>\n",
       "      <td>1</td>\n",
       "      <td>0</td>\n",
       "      <td>41</td>\n",
       "      <td>F</td>\n",
       "      <td>2</td>\n",
       "      <td>High School</td>\n",
       "      <td>Married</td>\n",
       "      <td>Less than $40K</td>\n",
       "      <td>Blue</td>\n",
       "      <td>36</td>\n",
       "      <td>6</td>\n",
       "      <td>2</td>\n",
       "      <td>2</td>\n",
       "      <td>4953.0</td>\n",
       "      <td>4183</td>\n",
       "      <td>67</td>\n",
       "    </tr>\n",
       "    <tr>\n",
       "      <th>1</th>\n",
       "      <td>2</td>\n",
       "      <td>0</td>\n",
       "      <td>38</td>\n",
       "      <td>M</td>\n",
       "      <td>0</td>\n",
       "      <td>High School</td>\n",
       "      <td>Single</td>\n",
       "      <td>$80K - $120K</td>\n",
       "      <td>Blue</td>\n",
       "      <td>29</td>\n",
       "      <td>3</td>\n",
       "      <td>3</td>\n",
       "      <td>2</td>\n",
       "      <td>5983.0</td>\n",
       "      <td>4141</td>\n",
       "      <td>65</td>\n",
       "    </tr>\n",
       "  </tbody>\n",
       "</table>\n",
       "</div>"
      ],
      "text/plain": [
       "   ID  is_attrited  Age Gender  Dependent_cnt    Edu_level Marital_status  \\\n",
       "0   1            0   41      F              2  High School        Married   \n",
       "1   2            0   38      M              0  High School         Single   \n",
       "\n",
       "           Income  Card  Period_m  Total_rel_cnt  Inactive_last_12m  \\\n",
       "0  Less than $40K  Blue        36              6                  2   \n",
       "1    $80K - $120K  Blue        29              3                  3   \n",
       "\n",
       "   Contacts_cnt_last_12m  Credit_limit  Total_trans_amt  Total_trans_cnt  \n",
       "0                      2        4953.0             4183               67  \n",
       "1                      2        5983.0             4141               65  "
      ]
     },
     "execution_count": 11,
     "metadata": {},
     "output_type": "execute_result"
    }
   ],
   "source": [
    "df = pd.read_csv(\"실기 Python 실습파일 (2)/financial_info_10k_persons.csv\")\n",
    "df.head(2)"
   ]
  },
  {
   "cell_type": "code",
   "execution_count": 12,
   "id": "6f0ef4d1",
   "metadata": {},
   "outputs": [
    {
     "data": {
      "text/html": [
       "<div>\n",
       "<style scoped>\n",
       "    .dataframe tbody tr th:only-of-type {\n",
       "        vertical-align: middle;\n",
       "    }\n",
       "\n",
       "    .dataframe tbody tr th {\n",
       "        vertical-align: top;\n",
       "    }\n",
       "\n",
       "    .dataframe thead th {\n",
       "        text-align: right;\n",
       "    }\n",
       "</style>\n",
       "<table border=\"1\" class=\"dataframe\">\n",
       "  <thead>\n",
       "    <tr style=\"text-align: right;\">\n",
       "      <th></th>\n",
       "      <th>ID</th>\n",
       "      <th>is_attrited</th>\n",
       "      <th>Age</th>\n",
       "      <th>Gender</th>\n",
       "      <th>Dependent_cnt</th>\n",
       "      <th>Edu_level</th>\n",
       "      <th>Marital_status</th>\n",
       "      <th>Income</th>\n",
       "      <th>Card</th>\n",
       "      <th>Period_m</th>\n",
       "      <th>Total_rel_cnt</th>\n",
       "      <th>Inactive_last_12m</th>\n",
       "      <th>Contacts_cnt_last_12m</th>\n",
       "      <th>Credit_limit</th>\n",
       "      <th>Total_trans_amt</th>\n",
       "      <th>Total_trans_cnt</th>\n",
       "      <th>trans_1_mean</th>\n",
       "    </tr>\n",
       "  </thead>\n",
       "  <tbody>\n",
       "    <tr>\n",
       "      <th>0</th>\n",
       "      <td>1</td>\n",
       "      <td>0</td>\n",
       "      <td>41</td>\n",
       "      <td>F</td>\n",
       "      <td>2</td>\n",
       "      <td>High School</td>\n",
       "      <td>Married</td>\n",
       "      <td>Less than $40K</td>\n",
       "      <td>Blue</td>\n",
       "      <td>36</td>\n",
       "      <td>6</td>\n",
       "      <td>2</td>\n",
       "      <td>2</td>\n",
       "      <td>4953.0</td>\n",
       "      <td>4183</td>\n",
       "      <td>67</td>\n",
       "      <td>62.432836</td>\n",
       "    </tr>\n",
       "    <tr>\n",
       "      <th>1</th>\n",
       "      <td>2</td>\n",
       "      <td>0</td>\n",
       "      <td>38</td>\n",
       "      <td>M</td>\n",
       "      <td>0</td>\n",
       "      <td>High School</td>\n",
       "      <td>Single</td>\n",
       "      <td>$80K - $120K</td>\n",
       "      <td>Blue</td>\n",
       "      <td>29</td>\n",
       "      <td>3</td>\n",
       "      <td>3</td>\n",
       "      <td>2</td>\n",
       "      <td>5983.0</td>\n",
       "      <td>4141</td>\n",
       "      <td>65</td>\n",
       "      <td>63.707692</td>\n",
       "    </tr>\n",
       "  </tbody>\n",
       "</table>\n",
       "</div>"
      ],
      "text/plain": [
       "   ID  is_attrited  Age Gender  Dependent_cnt    Edu_level Marital_status  \\\n",
       "0   1            0   41      F              2  High School        Married   \n",
       "1   2            0   38      M              0  High School         Single   \n",
       "\n",
       "           Income  Card  Period_m  Total_rel_cnt  Inactive_last_12m  \\\n",
       "0  Less than $40K  Blue        36              6                  2   \n",
       "1    $80K - $120K  Blue        29              3                  3   \n",
       "\n",
       "   Contacts_cnt_last_12m  Credit_limit  Total_trans_amt  Total_trans_cnt  \\\n",
       "0                      2        4953.0             4183               67   \n",
       "1                      2        5983.0             4141               65   \n",
       "\n",
       "   trans_1_mean  \n",
       "0     62.432836  \n",
       "1     63.707692  "
      ]
     },
     "execution_count": 12,
     "metadata": {},
     "output_type": "execute_result"
    }
   ],
   "source": [
    "df[\"trans_1_mean\"]=df[\"Total_trans_amt\"]/df[\"Total_trans_cnt\"]\n",
    "df.head(2)"
   ]
  },
  {
   "cell_type": "code",
   "execution_count": 13,
   "id": "e04f4451",
   "metadata": {},
   "outputs": [
    {
     "name": "stdout",
     "output_type": "stream",
     "text": [
      "1.6665446172570928\n"
     ]
    }
   ],
   "source": [
    "samp_m = df.loc[df[\"Gender\"] == \"M\", \"trans_1_mean\"]\n",
    "samp_f = df.loc[df[\"Gender\"] == \"F\", \"trans_1_mean\"]\n",
    "F = samp_m.var() / samp_f.var()\n",
    "print(F)"
   ]
  },
  {
   "cell_type": "markdown",
   "id": "7de4b45e",
   "metadata": {},
   "source": [
    "Q2."
   ]
  },
  {
   "cell_type": "code",
   "execution_count": 15,
   "id": "025048b2",
   "metadata": {},
   "outputs": [
    {
     "data": {
      "text/html": [
       "<div>\n",
       "<style scoped>\n",
       "    .dataframe tbody tr th:only-of-type {\n",
       "        vertical-align: middle;\n",
       "    }\n",
       "\n",
       "    .dataframe tbody tr th {\n",
       "        vertical-align: top;\n",
       "    }\n",
       "\n",
       "    .dataframe thead th {\n",
       "        text-align: right;\n",
       "    }\n",
       "</style>\n",
       "<table border=\"1\" class=\"dataframe\">\n",
       "  <thead>\n",
       "    <tr style=\"text-align: right;\">\n",
       "      <th></th>\n",
       "      <th>ID</th>\n",
       "      <th>is_attrited</th>\n",
       "      <th>Age</th>\n",
       "      <th>Gender</th>\n",
       "      <th>Dependent_cnt</th>\n",
       "      <th>Edu_level</th>\n",
       "      <th>Marital_status</th>\n",
       "      <th>Income</th>\n",
       "      <th>Card</th>\n",
       "      <th>Period_m</th>\n",
       "      <th>Total_rel_cnt</th>\n",
       "      <th>Inactive_last_12m</th>\n",
       "      <th>Contacts_cnt_last_12m</th>\n",
       "      <th>Credit_limit</th>\n",
       "      <th>Total_trans_amt</th>\n",
       "      <th>Total_trans_cnt</th>\n",
       "      <th>trans_1_mean</th>\n",
       "      <th>Age_g</th>\n",
       "    </tr>\n",
       "  </thead>\n",
       "  <tbody>\n",
       "    <tr>\n",
       "      <th>0</th>\n",
       "      <td>1</td>\n",
       "      <td>0</td>\n",
       "      <td>41</td>\n",
       "      <td>F</td>\n",
       "      <td>2</td>\n",
       "      <td>High School</td>\n",
       "      <td>Married</td>\n",
       "      <td>Less than $40K</td>\n",
       "      <td>Blue</td>\n",
       "      <td>36</td>\n",
       "      <td>6</td>\n",
       "      <td>2</td>\n",
       "      <td>2</td>\n",
       "      <td>4953.0</td>\n",
       "      <td>4183</td>\n",
       "      <td>67</td>\n",
       "      <td>62.432836</td>\n",
       "      <td>40</td>\n",
       "    </tr>\n",
       "    <tr>\n",
       "      <th>1</th>\n",
       "      <td>2</td>\n",
       "      <td>0</td>\n",
       "      <td>38</td>\n",
       "      <td>M</td>\n",
       "      <td>0</td>\n",
       "      <td>High School</td>\n",
       "      <td>Single</td>\n",
       "      <td>$80K - $120K</td>\n",
       "      <td>Blue</td>\n",
       "      <td>29</td>\n",
       "      <td>3</td>\n",
       "      <td>3</td>\n",
       "      <td>2</td>\n",
       "      <td>5983.0</td>\n",
       "      <td>4141</td>\n",
       "      <td>65</td>\n",
       "      <td>63.707692</td>\n",
       "      <td>30</td>\n",
       "    </tr>\n",
       "  </tbody>\n",
       "</table>\n",
       "</div>"
      ],
      "text/plain": [
       "   ID  is_attrited  Age Gender  Dependent_cnt    Edu_level Marital_status  \\\n",
       "0   1            0   41      F              2  High School        Married   \n",
       "1   2            0   38      M              0  High School         Single   \n",
       "\n",
       "           Income  Card  Period_m  Total_rel_cnt  Inactive_last_12m  \\\n",
       "0  Less than $40K  Blue        36              6                  2   \n",
       "1    $80K - $120K  Blue        29              3                  3   \n",
       "\n",
       "   Contacts_cnt_last_12m  Credit_limit  Total_trans_amt  Total_trans_cnt  \\\n",
       "0                      2        4953.0             4183               67   \n",
       "1                      2        5983.0             4141               65   \n",
       "\n",
       "   trans_1_mean  Age_g  \n",
       "0     62.432836     40  \n",
       "1     63.707692     30  "
      ]
     },
     "execution_count": 15,
     "metadata": {},
     "output_type": "execute_result"
    }
   ],
   "source": [
    "df = pd.read_csv(\"실기 Python 실습파일 (2)/financial_info_10k_persons.csv\")\n",
    "df[\"trans_1_mean\"]=df[\"Total_trans_amt\"]/df[\"Total_trans_cnt\"]\n",
    "df[\"Age_g\"]=(df[\"Age\"]//10)*10\n",
    "df.head(2)"
   ]
  },
  {
   "cell_type": "code",
   "execution_count": 16,
   "id": "71117d46",
   "metadata": {},
   "outputs": [
    {
     "data": {
      "text/plain": [
       "BartlettResult(statistic=10.989031521671865, pvalue=0.004109245841612487)"
      ]
     },
     "execution_count": 16,
     "metadata": {},
     "output_type": "execute_result"
    }
   ],
   "source": [
    "bartlett(df.loc[df[\"Age_g\"] == 50, \"trans_1_mean\"],\n",
    "         df.loc[df[\"Age_g\"] == 60, \"trans_1_mean\"],\n",
    "         df.loc[df[\"Age_g\"] == 70, \"trans_1_mean\"],)"
   ]
  },
  {
   "cell_type": "markdown",
   "id": "a7e7a03a",
   "metadata": {},
   "source": [
    "Q3."
   ]
  },
  {
   "cell_type": "code",
   "execution_count": 17,
   "id": "301048c5",
   "metadata": {},
   "outputs": [
    {
     "data": {
      "text/html": [
       "<div>\n",
       "<style scoped>\n",
       "    .dataframe tbody tr th:only-of-type {\n",
       "        vertical-align: middle;\n",
       "    }\n",
       "\n",
       "    .dataframe tbody tr th {\n",
       "        vertical-align: top;\n",
       "    }\n",
       "\n",
       "    .dataframe thead th {\n",
       "        text-align: right;\n",
       "    }\n",
       "</style>\n",
       "<table border=\"1\" class=\"dataframe\">\n",
       "  <thead>\n",
       "    <tr style=\"text-align: right;\">\n",
       "      <th></th>\n",
       "      <th>ID</th>\n",
       "      <th>is_attrited</th>\n",
       "      <th>Age</th>\n",
       "      <th>Gender</th>\n",
       "      <th>Dependent_cnt</th>\n",
       "      <th>Edu_level</th>\n",
       "      <th>Marital_status</th>\n",
       "      <th>Income</th>\n",
       "      <th>Card</th>\n",
       "      <th>Period_m</th>\n",
       "      <th>Total_rel_cnt</th>\n",
       "      <th>Inactive_last_12m</th>\n",
       "      <th>Contacts_cnt_last_12m</th>\n",
       "      <th>Credit_limit</th>\n",
       "      <th>Total_trans_amt</th>\n",
       "      <th>Total_trans_cnt</th>\n",
       "      <th>trans_1_mean</th>\n",
       "    </tr>\n",
       "  </thead>\n",
       "  <tbody>\n",
       "    <tr>\n",
       "      <th>1</th>\n",
       "      <td>2</td>\n",
       "      <td>0</td>\n",
       "      <td>38</td>\n",
       "      <td>M</td>\n",
       "      <td>0</td>\n",
       "      <td>High School</td>\n",
       "      <td>Single</td>\n",
       "      <td>$80K - $120K</td>\n",
       "      <td>Blue</td>\n",
       "      <td>29</td>\n",
       "      <td>3</td>\n",
       "      <td>3</td>\n",
       "      <td>2</td>\n",
       "      <td>5983.0</td>\n",
       "      <td>4141</td>\n",
       "      <td>65</td>\n",
       "      <td>63.707692</td>\n",
       "    </tr>\n",
       "    <tr>\n",
       "      <th>26</th>\n",
       "      <td>27</td>\n",
       "      <td>0</td>\n",
       "      <td>32</td>\n",
       "      <td>M</td>\n",
       "      <td>0</td>\n",
       "      <td>College</td>\n",
       "      <td>Unknown</td>\n",
       "      <td>Less than $40K</td>\n",
       "      <td>Blue</td>\n",
       "      <td>36</td>\n",
       "      <td>3</td>\n",
       "      <td>3</td>\n",
       "      <td>4</td>\n",
       "      <td>3788.0</td>\n",
       "      <td>3975</td>\n",
       "      <td>65</td>\n",
       "      <td>61.153846</td>\n",
       "    </tr>\n",
       "  </tbody>\n",
       "</table>\n",
       "</div>"
      ],
      "text/plain": [
       "    ID  is_attrited  Age Gender  Dependent_cnt    Edu_level Marital_status  \\\n",
       "1    2            0   38      M              0  High School         Single   \n",
       "26  27            0   32      M              0      College        Unknown   \n",
       "\n",
       "            Income  Card  Period_m  Total_rel_cnt  Inactive_last_12m  \\\n",
       "1     $80K - $120K  Blue        29              3                  3   \n",
       "26  Less than $40K  Blue        36              3                  3   \n",
       "\n",
       "    Contacts_cnt_last_12m  Credit_limit  Total_trans_amt  Total_trans_cnt  \\\n",
       "1                       2        5983.0             4141               65   \n",
       "26                      4        3788.0             3975               65   \n",
       "\n",
       "    trans_1_mean  \n",
       "1      63.707692  \n",
       "26     61.153846  "
      ]
     },
     "execution_count": 17,
     "metadata": {},
     "output_type": "execute_result"
    }
   ],
   "source": [
    "df = pd.read_csv(\"실기 Python 실습파일 (2)/financial_info_10k_persons.csv\")\n",
    "df[\"trans_1_mean\"]=df[\"Total_trans_amt\"]/df[\"Total_trans_cnt\"]\n",
    "df_sub = df.loc[(df[\"Dependent_cnt\"] == 0) & (df[\"Gender\"] == \"M\")]\n",
    "df_sub.head(2)"
   ]
  },
  {
   "cell_type": "code",
   "execution_count": 18,
   "id": "d3278a42",
   "metadata": {},
   "outputs": [
    {
     "data": {
      "text/plain": [
       "413"
      ]
     },
     "execution_count": 18,
     "metadata": {},
     "output_type": "execute_result"
    }
   ],
   "source": [
    "len(df_sub)"
   ]
  },
  {
   "cell_type": "code",
   "execution_count": 19,
   "id": "6f3b845f",
   "metadata": {},
   "outputs": [
    {
     "data": {
      "text/plain": [
       "array(['High School', 'College', 'Unknown', 'Graduate', 'Uneducated',\n",
       "       'Doctorate', 'Post-Graduate'], dtype=object)"
      ]
     },
     "execution_count": 19,
     "metadata": {},
     "output_type": "execute_result"
    }
   ],
   "source": [
    "df_sub[\"Edu_level\"].unique()"
   ]
  },
  {
   "cell_type": "code",
   "execution_count": 20,
   "id": "d493bdad",
   "metadata": {},
   "outputs": [
    {
     "data": {
      "text/plain": [
       "7"
      ]
     },
     "execution_count": 20,
     "metadata": {},
     "output_type": "execute_result"
    }
   ],
   "source": [
    "df_sub[\"Edu_level\"].nunique()"
   ]
  },
  {
   "cell_type": "code",
   "execution_count": 21,
   "id": "c55aea2b",
   "metadata": {},
   "outputs": [
    {
     "data": {
      "text/plain": [
       "'Post-Graduate'"
      ]
     },
     "execution_count": 21,
     "metadata": {},
     "output_type": "execute_result"
    }
   ],
   "source": [
    "df_sub[\"Edu_level\"].unique()[6]"
   ]
  },
  {
   "cell_type": "code",
   "execution_count": 22,
   "id": "2090524e",
   "metadata": {},
   "outputs": [
    {
     "data": {
      "text/plain": [
       "LeveneResult(statistic=0.8832361640792544, pvalue=0.5070685402777693)"
      ]
     },
     "execution_count": 22,
     "metadata": {},
     "output_type": "execute_result"
    }
   ],
   "source": [
    "levene(df_sub.loc[df_sub[\"Edu_level\"]==df_sub[\"Edu_level\"].unique()[0], \"trans_1_mean\"],\n",
    "       df_sub.loc[df_sub[\"Edu_level\"]==df_sub[\"Edu_level\"].unique()[1], \"trans_1_mean\"],\n",
    "       df_sub.loc[df_sub[\"Edu_level\"]==df_sub[\"Edu_level\"].unique()[2], \"trans_1_mean\"],\n",
    "       df_sub.loc[df_sub[\"Edu_level\"]==df_sub[\"Edu_level\"].unique()[3], \"trans_1_mean\"],\n",
    "       df_sub.loc[df_sub[\"Edu_level\"]==df_sub[\"Edu_level\"].unique()[4], \"trans_1_mean\"],\n",
    "       df_sub.loc[df_sub[\"Edu_level\"]==df_sub[\"Edu_level\"].unique()[5], \"trans_1_mean\"],\n",
    "       df_sub.loc[df_sub[\"Edu_level\"]==df_sub[\"Edu_level\"].unique()[6], \"trans_1_mean\"])"
   ]
  },
  {
   "cell_type": "code",
   "execution_count": null,
   "id": "280c79ae",
   "metadata": {},
   "outputs": [],
   "source": []
  },
  {
   "cell_type": "code",
   "execution_count": null,
   "id": "8ef45f33",
   "metadata": {},
   "outputs": [],
   "source": []
  }
 ],
 "metadata": {
  "kernelspec": {
   "display_name": "Python 3 (ipykernel)",
   "language": "python",
   "name": "python3"
  },
  "language_info": {
   "codemirror_mode": {
    "name": "ipython",
    "version": 3
   },
   "file_extension": ".py",
   "mimetype": "text/x-python",
   "name": "python",
   "nbconvert_exporter": "python",
   "pygments_lexer": "ipython3",
   "version": "3.9.7"
  }
 },
 "nbformat": 4,
 "nbformat_minor": 5
}
