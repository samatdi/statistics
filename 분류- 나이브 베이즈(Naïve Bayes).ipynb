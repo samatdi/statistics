{
 "cells": [
  {
   "cell_type": "code",
   "execution_count": 1,
   "id": "1aebc1d8",
   "metadata": {},
   "outputs": [],
   "source": [
    "import pandas as pd \n",
    "from sklearn.naive_bayes import GaussianNB"
   ]
  },
  {
   "cell_type": "code",
   "execution_count": 2,
   "id": "8e3b717f",
   "metadata": {},
   "outputs": [
    {
     "data": {
      "text/html": [
       "<div>\n",
       "<style scoped>\n",
       "    .dataframe tbody tr th:only-of-type {\n",
       "        vertical-align: middle;\n",
       "    }\n",
       "\n",
       "    .dataframe tbody tr th {\n",
       "        vertical-align: top;\n",
       "    }\n",
       "\n",
       "    .dataframe thead th {\n",
       "        text-align: right;\n",
       "    }\n",
       "</style>\n",
       "<table border=\"1\" class=\"dataframe\">\n",
       "  <thead>\n",
       "    <tr style=\"text-align: right;\">\n",
       "      <th></th>\n",
       "      <th>Sepal.Length</th>\n",
       "      <th>Sepal.Width</th>\n",
       "      <th>Petal.Length</th>\n",
       "      <th>Petal.Width</th>\n",
       "      <th>Species</th>\n",
       "    </tr>\n",
       "  </thead>\n",
       "  <tbody>\n",
       "    <tr>\n",
       "      <th>0</th>\n",
       "      <td>5.1</td>\n",
       "      <td>3.5</td>\n",
       "      <td>1.4</td>\n",
       "      <td>0.2</td>\n",
       "      <td>setosa</td>\n",
       "    </tr>\n",
       "    <tr>\n",
       "      <th>1</th>\n",
       "      <td>4.9</td>\n",
       "      <td>3.0</td>\n",
       "      <td>1.4</td>\n",
       "      <td>0.2</td>\n",
       "      <td>setosa</td>\n",
       "    </tr>\n",
       "  </tbody>\n",
       "</table>\n",
       "</div>"
      ],
      "text/plain": [
       "   Sepal.Length  Sepal.Width  Petal.Length  Petal.Width Species\n",
       "0           5.1          3.5           1.4          0.2  setosa\n",
       "1           4.9          3.0           1.4          0.2  setosa"
      ]
     },
     "execution_count": 2,
     "metadata": {},
     "output_type": "execute_result"
    }
   ],
   "source": [
    "df = pd.read_csv(\"실기 Python 실습파일 (2)/iris.csv\")\n",
    "df.head(2)"
   ]
  },
  {
   "cell_type": "code",
   "execution_count": 3,
   "id": "02fe30e6",
   "metadata": {},
   "outputs": [
    {
     "data": {
      "text/html": [
       "<div>\n",
       "<style scoped>\n",
       "    .dataframe tbody tr th:only-of-type {\n",
       "        vertical-align: middle;\n",
       "    }\n",
       "\n",
       "    .dataframe tbody tr th {\n",
       "        vertical-align: top;\n",
       "    }\n",
       "\n",
       "    .dataframe thead th {\n",
       "        text-align: right;\n",
       "    }\n",
       "</style>\n",
       "<table border=\"1\" class=\"dataframe\">\n",
       "  <thead>\n",
       "    <tr style=\"text-align: right;\">\n",
       "      <th></th>\n",
       "      <th>Sepal.Length</th>\n",
       "      <th>Sepal.Width</th>\n",
       "      <th>Petal.Length</th>\n",
       "      <th>Petal.Width</th>\n",
       "      <th>Species</th>\n",
       "      <th>is_setosa</th>\n",
       "    </tr>\n",
       "  </thead>\n",
       "  <tbody>\n",
       "    <tr>\n",
       "      <th>0</th>\n",
       "      <td>5.1</td>\n",
       "      <td>3.5</td>\n",
       "      <td>1.4</td>\n",
       "      <td>0.2</td>\n",
       "      <td>setosa</td>\n",
       "      <td>1</td>\n",
       "    </tr>\n",
       "    <tr>\n",
       "      <th>1</th>\n",
       "      <td>4.9</td>\n",
       "      <td>3.0</td>\n",
       "      <td>1.4</td>\n",
       "      <td>0.2</td>\n",
       "      <td>setosa</td>\n",
       "      <td>1</td>\n",
       "    </tr>\n",
       "  </tbody>\n",
       "</table>\n",
       "</div>"
      ],
      "text/plain": [
       "   Sepal.Length  Sepal.Width  Petal.Length  Petal.Width Species  is_setosa\n",
       "0           5.1          3.5           1.4          0.2  setosa          1\n",
       "1           4.9          3.0           1.4          0.2  setosa          1"
      ]
     },
     "execution_count": 3,
     "metadata": {},
     "output_type": "execute_result"
    }
   ],
   "source": [
    "df[\"is_setosa\"] = (df[\"Species\"] == \"setosa\") +0\n",
    "df.head(2)"
   ]
  },
  {
   "cell_type": "code",
   "execution_count": 5,
   "id": "f53f1052",
   "metadata": {},
   "outputs": [
    {
     "data": {
      "text/plain": [
       "0    100\n",
       "1     50\n",
       "Name: is_setosa, dtype: int64"
      ]
     },
     "execution_count": 5,
     "metadata": {},
     "output_type": "execute_result"
    }
   ],
   "source": [
    "df[\"is_setosa\"].value_counts()"
   ]
  },
  {
   "cell_type": "code",
   "execution_count": 6,
   "id": "452f5c54",
   "metadata": {},
   "outputs": [
    {
     "data": {
      "text/plain": [
       "0    0.666667\n",
       "1    0.333333\n",
       "Name: is_setosa, dtype: float64"
      ]
     },
     "execution_count": 6,
     "metadata": {},
     "output_type": "execute_result"
    }
   ],
   "source": [
    "df[\"is_setosa\"].value_counts(normalize=True)"
   ]
  },
  {
   "cell_type": "code",
   "execution_count": 8,
   "id": "50d5417a",
   "metadata": {},
   "outputs": [
    {
     "data": {
      "text/plain": [
       "GaussianNB()"
      ]
     },
     "execution_count": 8,
     "metadata": {},
     "output_type": "execute_result"
    }
   ],
   "source": [
    "model = GaussianNB().fit(X = df.iloc[:,:4],\n",
    "                         y = df[\"is_setosa\"])\n",
    "model"
   ]
  },
  {
   "cell_type": "code",
   "execution_count": 9,
   "id": "5c9df7ec",
   "metadata": {},
   "outputs": [
    {
     "data": {
      "text/plain": [
       "array([0.66666667, 0.33333333])"
      ]
     },
     "execution_count": 9,
     "metadata": {},
     "output_type": "execute_result"
    }
   ],
   "source": [
    "model.class_prior_"
   ]
  },
  {
   "cell_type": "code",
   "execution_count": 10,
   "id": "927512bc",
   "metadata": {},
   "outputs": [
    {
     "data": {
      "text/plain": [
       "array([[6.262, 2.872, 4.906, 1.676],\n",
       "       [5.006, 3.428, 1.462, 0.246]])"
      ]
     },
     "execution_count": 10,
     "metadata": {},
     "output_type": "execute_result"
    }
   ],
   "source": [
    "model.theta_"
   ]
  },
  {
   "cell_type": "code",
   "execution_count": 11,
   "id": "b8960e7d",
   "metadata": {},
   "outputs": [
    {
     "data": {
      "text/plain": [
       "array([[6.71160012e-010, 9.99999999e-001],\n",
       "       [4.00302403e-009, 9.99999996e-001],\n",
       "       [1.02351870e-009, 9.99999999e-001],\n",
       "       [2.76121831e-009, 9.99999997e-001],\n",
       "       [2.87820863e-010, 1.00000000e+000],\n",
       "       [3.55110797e-008, 9.99999964e-001],\n",
       "       [9.66021894e-010, 9.99999999e-001],\n",
       "       [1.30959533e-009, 9.99999999e-001],\n",
       "       [4.08140312e-009, 9.99999996e-001],\n",
       "       [4.28674522e-009, 9.99999996e-001],\n",
       "       [1.33377359e-009, 9.99999999e-001],\n",
       "       [1.84532267e-009, 9.99999998e-001],\n",
       "       [3.38128619e-009, 9.99999997e-001],\n",
       "       [5.20232440e-009, 9.99999995e-001],\n",
       "       [1.87082925e-009, 9.99999998e-001],\n",
       "       [1.24819214e-009, 9.99999999e-001],\n",
       "       [2.81930547e-009, 9.99999997e-001],\n",
       "       [1.54701681e-009, 9.99999998e-001],\n",
       "       [7.33966195e-008, 9.99999927e-001],\n",
       "       [4.73129136e-010, 1.00000000e+000],\n",
       "       [4.45844705e-008, 9.99999955e-001],\n",
       "       [4.58044453e-009, 9.99999995e-001],\n",
       "       [5.68754049e-010, 9.99999999e-001],\n",
       "       [3.23988692e-006, 9.99996760e-001],\n",
       "       [1.39641059e-007, 9.99999860e-001],\n",
       "       [1.83453526e-008, 9.99999982e-001],\n",
       "       [3.65165447e-008, 9.99999963e-001],\n",
       "       [1.56322356e-009, 9.99999998e-001],\n",
       "       [1.62717265e-009, 9.99999998e-001],\n",
       "       [4.21218256e-009, 9.99999996e-001],\n",
       "       [7.58667096e-009, 9.99999992e-001],\n",
       "       [8.28155076e-008, 9.99999917e-001],\n",
       "       [4.87996004e-011, 1.00000000e+000],\n",
       "       [6.74800449e-011, 1.00000000e+000],\n",
       "       [4.16954875e-009, 9.99999996e-001],\n",
       "       [2.19954663e-009, 9.99999998e-001],\n",
       "       [3.68284192e-009, 9.99999996e-001],\n",
       "       [2.29157404e-010, 1.00000000e+000],\n",
       "       [2.33444890e-009, 9.99999998e-001],\n",
       "       [1.79409824e-009, 9.99999998e-001],\n",
       "       [9.73835050e-010, 9.99999999e-001],\n",
       "       [5.98958216e-008, 9.99999940e-001],\n",
       "       [9.66496167e-010, 9.99999999e-001],\n",
       "       [8.69251361e-006, 9.99991307e-001],\n",
       "       [4.33115769e-007, 9.99999567e-001],\n",
       "       [7.58075174e-009, 9.99999992e-001],\n",
       "       [4.54587834e-010, 1.00000000e+000],\n",
       "       [1.09752810e-009, 9.99999999e-001],\n",
       "       [8.15317332e-010, 9.99999999e-001],\n",
       "       [1.33589188e-009, 9.99999999e-001],\n",
       "       [1.00000000e+000, 1.06857205e-109],\n",
       "       [1.00000000e+000, 6.21929944e-102],\n",
       "       [1.00000000e+000, 5.95805983e-124],\n",
       "       [1.00000000e+000, 4.96081507e-070],\n",
       "       [1.00000000e+000, 1.01443079e-107],\n",
       "       [1.00000000e+000, 1.44947298e-090],\n",
       "       [1.00000000e+000, 9.41447938e-116],\n",
       "       [1.00000000e+000, 1.40878104e-034],\n",
       "       [1.00000000e+000, 9.94122923e-099],\n",
       "       [1.00000000e+000, 1.33364660e-069],\n",
       "       [1.00000000e+000, 4.99612563e-041],\n",
       "       [1.00000000e+000, 2.21317195e-087],\n",
       "       [1.00000000e+000, 1.58989684e-060],\n",
       "       [1.00000000e+000, 1.46204910e-105],\n",
       "       [1.00000000e+000, 2.20068846e-055],\n",
       "       [1.00000000e+000, 2.04691481e-094],\n",
       "       [1.00000000e+000, 2.85937116e-099],\n",
       "       [1.00000000e+000, 5.31689772e-063],\n",
       "       [1.00000000e+000, 1.39773650e-102],\n",
       "       [1.00000000e+000, 1.78932098e-058],\n",
       "       [1.00000000e+000, 9.14854950e-131],\n",
       "       [1.00000000e+000, 2.72683804e-071],\n",
       "       [1.00000000e+000, 9.83679110e-122],\n",
       "       [1.00000000e+000, 3.88698406e-097],\n",
       "       [1.00000000e+000, 1.88514877e-084],\n",
       "       [1.00000000e+000, 4.69482828e-094],\n",
       "       [1.00000000e+000, 4.78843075e-114],\n",
       "       [1.00000000e+000, 6.24357181e-139],\n",
       "       [1.00000000e+000, 9.13368816e-101],\n",
       "       [1.00000000e+000, 8.51014877e-042],\n",
       "       [1.00000000e+000, 9.12551670e-055],\n",
       "       [1.00000000e+000, 5.71434104e-048],\n",
       "       [1.00000000e+000, 1.60533683e-062],\n",
       "       [1.00000000e+000, 8.44274392e-136],\n",
       "       [1.00000000e+000, 9.13750747e-099],\n",
       "       [1.00000000e+000, 5.08376170e-105],\n",
       "       [1.00000000e+000, 5.89826059e-113],\n",
       "       [1.00000000e+000, 3.80996717e-089],\n",
       "       [1.00000000e+000, 4.32983374e-073],\n",
       "       [1.00000000e+000, 9.02901478e-070],\n",
       "       [1.00000000e+000, 8.59054852e-082],\n",
       "       [1.00000000e+000, 1.10712111e-100],\n",
       "       [1.00000000e+000, 2.16865749e-066],\n",
       "       [1.00000000e+000, 8.16887057e-035],\n",
       "       [1.00000000e+000, 1.34722547e-077],\n",
       "       [1.00000000e+000, 2.86432287e-073],\n",
       "       [1.00000000e+000, 1.47554563e-077],\n",
       "       [1.00000000e+000, 1.55173167e-083],\n",
       "       [1.00000000e+000, 2.85291648e-030],\n",
       "       [1.00000000e+000, 9.94943945e-074],\n",
       "       [1.00000000e+000, 1.28688164e-253],\n",
       "       [1.00000000e+000, 4.86015211e-153],\n",
       "       [1.00000000e+000, 5.52499016e-220],\n",
       "       [1.00000000e+000, 9.66374765e-177],\n",
       "       [1.00000000e+000, 1.45895796e-217],\n",
       "       [1.00000000e+000, 2.90145852e-272],\n",
       "       [1.00000000e+000, 1.33814096e-109],\n",
       "       [1.00000000e+000, 2.70101499e-228],\n",
       "       [1.00000000e+000, 9.35073850e-192],\n",
       "       [1.00000000e+000, 8.88153917e-265],\n",
       "       [1.00000000e+000, 8.14870772e-162],\n",
       "       [1.00000000e+000, 2.00017978e-166],\n",
       "       [1.00000000e+000, 2.09464788e-193],\n",
       "       [1.00000000e+000, 1.73044150e-154],\n",
       "       [1.00000000e+000, 2.73434375e-190],\n",
       "       [1.00000000e+000, 1.03194235e-194],\n",
       "       [1.00000000e+000, 1.45235575e-171],\n",
       "       [1.00000000e+000, 2.55683518e-286],\n",
       "       [1.00000000e+000, 5.06032759e-312],\n",
       "       [1.00000000e+000, 5.63778576e-126],\n",
       "       [1.00000000e+000, 4.95216769e-221],\n",
       "       [1.00000000e+000, 1.28040017e-148],\n",
       "       [1.00000000e+000, 8.06738555e-274],\n",
       "       [1.00000000e+000, 2.89953965e-138],\n",
       "       [1.00000000e+000, 2.57442668e-204],\n",
       "       [1.00000000e+000, 1.31802751e-206],\n",
       "       [1.00000000e+000, 1.12177696e-132],\n",
       "       [1.00000000e+000, 6.84029053e-137],\n",
       "       [1.00000000e+000, 1.40258589e-197],\n",
       "       [1.00000000e+000, 1.75064031e-182],\n",
       "       [1.00000000e+000, 8.59036389e-222],\n",
       "       [1.00000000e+000, 2.64666557e-251],\n",
       "       [1.00000000e+000, 4.62185734e-205],\n",
       "       [1.00000000e+000, 1.15739602e-131],\n",
       "       [1.00000000e+000, 1.12676589e-154],\n",
       "       [1.00000000e+000, 5.84198140e-253],\n",
       "       [1.00000000e+000, 1.57035272e-219],\n",
       "       [1.00000000e+000, 7.00542706e-171],\n",
       "       [1.00000000e+000, 1.62375274e-131],\n",
       "       [1.00000000e+000, 5.42202653e-188],\n",
       "       [1.00000000e+000, 3.51252480e-222],\n",
       "       [1.00000000e+000, 1.06417461e-186],\n",
       "       [1.00000000e+000, 4.86015211e-153],\n",
       "       [1.00000000e+000, 4.57498816e-233],\n",
       "       [1.00000000e+000, 1.71389160e-236],\n",
       "       [1.00000000e+000, 4.06234779e-191],\n",
       "       [1.00000000e+000, 4.86093394e-150],\n",
       "       [1.00000000e+000, 1.33253783e-167],\n",
       "       [1.00000000e+000, 4.60036792e-199],\n",
       "       [1.00000000e+000, 1.62597097e-146]])"
      ]
     },
     "execution_count": 11,
     "metadata": {},
     "output_type": "execute_result"
    }
   ],
   "source": [
    "pred = model.predict_proba(df.iloc[:,:4])\n",
    "pred"
   ]
  },
  {
   "cell_type": "code",
   "execution_count": 13,
   "id": "fec6f3cb",
   "metadata": {},
   "outputs": [
    {
     "data": {
      "text/plain": [
       "array([1., 1., 1., 1.])"
      ]
     },
     "execution_count": 13,
     "metadata": {},
     "output_type": "execute_result"
    }
   ],
   "source": [
    "pred = model.predict_proba(df.iloc[:,:4])\n",
    "pred = pred[:,1]\n",
    "pred[:4]"
   ]
  },
  {
   "cell_type": "code",
   "execution_count": 14,
   "id": "82163d06",
   "metadata": {},
   "outputs": [],
   "source": [
    "from sklearn.metrics import accuracy_score"
   ]
  },
  {
   "cell_type": "code",
   "execution_count": 15,
   "id": "ff297404",
   "metadata": {},
   "outputs": [],
   "source": [
    "pred_class = (pred>0.5)+0"
   ]
  },
  {
   "cell_type": "code",
   "execution_count": 16,
   "id": "42a6659d",
   "metadata": {},
   "outputs": [
    {
     "data": {
      "text/plain": [
       "1.0"
      ]
     },
     "execution_count": 16,
     "metadata": {},
     "output_type": "execute_result"
    }
   ],
   "source": [
    "accuracy_score(y_true = df[\"is_setosa\"],\n",
    "               y_pred= pred_class)"
   ]
  },
  {
   "cell_type": "markdown",
   "id": "db40772f",
   "metadata": {},
   "source": [
    "# 문제"
   ]
  },
  {
   "cell_type": "markdown",
   "id": "5aaef3ac",
   "metadata": {},
   "source": [
    "Q1."
   ]
  },
  {
   "cell_type": "code",
   "execution_count": 17,
   "id": "25c7ad8d",
   "metadata": {},
   "outputs": [
    {
     "data": {
      "text/html": [
       "<div>\n",
       "<style scoped>\n",
       "    .dataframe tbody tr th:only-of-type {\n",
       "        vertical-align: middle;\n",
       "    }\n",
       "\n",
       "    .dataframe tbody tr th {\n",
       "        vertical-align: top;\n",
       "    }\n",
       "\n",
       "    .dataframe thead th {\n",
       "        text-align: right;\n",
       "    }\n",
       "</style>\n",
       "<table border=\"1\" class=\"dataframe\">\n",
       "  <thead>\n",
       "    <tr style=\"text-align: right;\">\n",
       "      <th></th>\n",
       "      <th>Pregnancies</th>\n",
       "      <th>Glucose</th>\n",
       "      <th>BloodPressure</th>\n",
       "      <th>SkinThickness</th>\n",
       "      <th>Insulin</th>\n",
       "      <th>BMI</th>\n",
       "      <th>DiabetesPedigreeFunction</th>\n",
       "      <th>Age</th>\n",
       "      <th>Outcome</th>\n",
       "    </tr>\n",
       "  </thead>\n",
       "  <tbody>\n",
       "    <tr>\n",
       "      <th>0</th>\n",
       "      <td>6</td>\n",
       "      <td>148</td>\n",
       "      <td>72</td>\n",
       "      <td>35</td>\n",
       "      <td>0</td>\n",
       "      <td>33.6</td>\n",
       "      <td>0.627</td>\n",
       "      <td>50</td>\n",
       "      <td>1</td>\n",
       "    </tr>\n",
       "    <tr>\n",
       "      <th>1</th>\n",
       "      <td>1</td>\n",
       "      <td>85</td>\n",
       "      <td>66</td>\n",
       "      <td>29</td>\n",
       "      <td>0</td>\n",
       "      <td>26.6</td>\n",
       "      <td>0.351</td>\n",
       "      <td>31</td>\n",
       "      <td>0</td>\n",
       "    </tr>\n",
       "  </tbody>\n",
       "</table>\n",
       "</div>"
      ],
      "text/plain": [
       "   Pregnancies  Glucose  BloodPressure  SkinThickness  Insulin   BMI  \\\n",
       "0            6      148             72             35        0  33.6   \n",
       "1            1       85             66             29        0  26.6   \n",
       "\n",
       "   DiabetesPedigreeFunction  Age  Outcome  \n",
       "0                     0.627   50        1  \n",
       "1                     0.351   31        0  "
      ]
     },
     "execution_count": 17,
     "metadata": {},
     "output_type": "execute_result"
    }
   ],
   "source": [
    "df = pd.read_csv(\"실기 Python 실습파일 (2)/diabetes.csv\")\n",
    "df.head(2)"
   ]
  },
  {
   "cell_type": "code",
   "execution_count": 18,
   "id": "e5911740",
   "metadata": {},
   "outputs": [],
   "source": [
    "df_sub = df.loc[df[\"BMI\"]>0,]"
   ]
  },
  {
   "cell_type": "code",
   "execution_count": 19,
   "id": "8e190e3a",
   "metadata": {},
   "outputs": [
    {
     "data": {
      "text/plain": [
       "0    0.648613\n",
       "1    0.351387\n",
       "Name: Outcome, dtype: float64"
      ]
     },
     "execution_count": 19,
     "metadata": {},
     "output_type": "execute_result"
    }
   ],
   "source": [
    "df_sub[\"Outcome\"].value_counts(normalize= True)"
   ]
  },
  {
   "cell_type": "markdown",
   "id": "b751af15",
   "metadata": {},
   "source": [
    "Q2."
   ]
  },
  {
   "cell_type": "code",
   "execution_count": 20,
   "id": "3569817f",
   "metadata": {},
   "outputs": [
    {
     "data": {
      "text/html": [
       "<div>\n",
       "<style scoped>\n",
       "    .dataframe tbody tr th:only-of-type {\n",
       "        vertical-align: middle;\n",
       "    }\n",
       "\n",
       "    .dataframe tbody tr th {\n",
       "        vertical-align: top;\n",
       "    }\n",
       "\n",
       "    .dataframe thead th {\n",
       "        text-align: right;\n",
       "    }\n",
       "</style>\n",
       "<table border=\"1\" class=\"dataframe\">\n",
       "  <thead>\n",
       "    <tr style=\"text-align: right;\">\n",
       "      <th></th>\n",
       "      <th>Pregnancies</th>\n",
       "      <th>Glucose</th>\n",
       "      <th>BloodPressure</th>\n",
       "      <th>SkinThickness</th>\n",
       "      <th>Insulin</th>\n",
       "      <th>BMI</th>\n",
       "      <th>DiabetesPedigreeFunction</th>\n",
       "      <th>Age</th>\n",
       "      <th>Outcome</th>\n",
       "    </tr>\n",
       "  </thead>\n",
       "  <tbody>\n",
       "    <tr>\n",
       "      <th>0</th>\n",
       "      <td>6</td>\n",
       "      <td>148</td>\n",
       "      <td>72</td>\n",
       "      <td>35</td>\n",
       "      <td>0</td>\n",
       "      <td>33.6</td>\n",
       "      <td>0.627</td>\n",
       "      <td>50</td>\n",
       "      <td>1</td>\n",
       "    </tr>\n",
       "    <tr>\n",
       "      <th>1</th>\n",
       "      <td>1</td>\n",
       "      <td>85</td>\n",
       "      <td>66</td>\n",
       "      <td>29</td>\n",
       "      <td>0</td>\n",
       "      <td>26.6</td>\n",
       "      <td>0.351</td>\n",
       "      <td>31</td>\n",
       "      <td>0</td>\n",
       "    </tr>\n",
       "  </tbody>\n",
       "</table>\n",
       "</div>"
      ],
      "text/plain": [
       "   Pregnancies  Glucose  BloodPressure  SkinThickness  Insulin   BMI  \\\n",
       "0            6      148             72             35        0  33.6   \n",
       "1            1       85             66             29        0  26.6   \n",
       "\n",
       "   DiabetesPedigreeFunction  Age  Outcome  \n",
       "0                     0.627   50        1  \n",
       "1                     0.351   31        0  "
      ]
     },
     "execution_count": 20,
     "metadata": {},
     "output_type": "execute_result"
    }
   ],
   "source": [
    "df = pd.read_csv(\"실기 Python 실습파일 (2)/diabetes.csv\")\n",
    "df.head(2)"
   ]
  },
  {
   "cell_type": "code",
   "execution_count": 22,
   "id": "4afaff76",
   "metadata": {},
   "outputs": [],
   "source": [
    "model = GaussianNB().fit(X = df.loc[:,[\"BloodPressure\", \"Glucose\",\"Age\"]],\n",
    "                         y = df[\"Outcome\"])\n",
    "pred = model.predict_proba(df.loc[:,[\"BloodPressure\", \"Glucose\",\"Age\"]])"
   ]
  },
  {
   "cell_type": "code",
   "execution_count": 23,
   "id": "d9f4d208",
   "metadata": {},
   "outputs": [
    {
     "data": {
      "text/plain": [
       "array([1, 0, 1, 0])"
      ]
     },
     "execution_count": 23,
     "metadata": {},
     "output_type": "execute_result"
    }
   ],
   "source": [
    "pred_class = (pred[:,1]>0.5)+0\n",
    "pred_class[:4]"
   ]
  },
  {
   "cell_type": "code",
   "execution_count": 24,
   "id": "93e6470c",
   "metadata": {},
   "outputs": [
    {
     "data": {
      "text/plain": [
       "0.7552083333333334"
      ]
     },
     "execution_count": 24,
     "metadata": {},
     "output_type": "execute_result"
    }
   ],
   "source": [
    "accuracy_score(y_pred= pred_class, y_true = df[\"Outcome\"])"
   ]
  },
  {
   "cell_type": "markdown",
   "id": "eac8b2be",
   "metadata": {},
   "source": [
    "Q3."
   ]
  },
  {
   "cell_type": "code",
   "execution_count": 25,
   "id": "4edd7c33",
   "metadata": {},
   "outputs": [
    {
     "data": {
      "text/html": [
       "<div>\n",
       "<style scoped>\n",
       "    .dataframe tbody tr th:only-of-type {\n",
       "        vertical-align: middle;\n",
       "    }\n",
       "\n",
       "    .dataframe tbody tr th {\n",
       "        vertical-align: top;\n",
       "    }\n",
       "\n",
       "    .dataframe thead th {\n",
       "        text-align: right;\n",
       "    }\n",
       "</style>\n",
       "<table border=\"1\" class=\"dataframe\">\n",
       "  <thead>\n",
       "    <tr style=\"text-align: right;\">\n",
       "      <th></th>\n",
       "      <th>Pregnancies</th>\n",
       "      <th>Glucose</th>\n",
       "      <th>BloodPressure</th>\n",
       "      <th>SkinThickness</th>\n",
       "      <th>Insulin</th>\n",
       "      <th>BMI</th>\n",
       "      <th>DiabetesPedigreeFunction</th>\n",
       "      <th>Age</th>\n",
       "      <th>Outcome</th>\n",
       "    </tr>\n",
       "  </thead>\n",
       "  <tbody>\n",
       "    <tr>\n",
       "      <th>0</th>\n",
       "      <td>6</td>\n",
       "      <td>148</td>\n",
       "      <td>72</td>\n",
       "      <td>35</td>\n",
       "      <td>0</td>\n",
       "      <td>33.6</td>\n",
       "      <td>0.627</td>\n",
       "      <td>50</td>\n",
       "      <td>1</td>\n",
       "    </tr>\n",
       "    <tr>\n",
       "      <th>1</th>\n",
       "      <td>1</td>\n",
       "      <td>85</td>\n",
       "      <td>66</td>\n",
       "      <td>29</td>\n",
       "      <td>0</td>\n",
       "      <td>26.6</td>\n",
       "      <td>0.351</td>\n",
       "      <td>31</td>\n",
       "      <td>0</td>\n",
       "    </tr>\n",
       "  </tbody>\n",
       "</table>\n",
       "</div>"
      ],
      "text/plain": [
       "   Pregnancies  Glucose  BloodPressure  SkinThickness  Insulin   BMI  \\\n",
       "0            6      148             72             35        0  33.6   \n",
       "1            1       85             66             29        0  26.6   \n",
       "\n",
       "   DiabetesPedigreeFunction  Age  Outcome  \n",
       "0                     0.627   50        1  \n",
       "1                     0.351   31        0  "
      ]
     },
     "execution_count": 25,
     "metadata": {},
     "output_type": "execute_result"
    }
   ],
   "source": [
    "df = pd.read_csv(\"실기 Python 실습파일 (2)/diabetes.csv\")\n",
    "df.head(2)"
   ]
  },
  {
   "cell_type": "code",
   "execution_count": 26,
   "id": "4eec9b48",
   "metadata": {},
   "outputs": [
    {
     "name": "stderr",
     "output_type": "stream",
     "text": [
      "C:\\Users\\82103\\AppData\\Local\\Temp/ipykernel_25860/2243297906.py:2: SettingWithCopyWarning: \n",
      "A value is trying to be set on a copy of a slice from a DataFrame.\n",
      "Try using .loc[row_indexer,col_indexer] = value instead\n",
      "\n",
      "See the caveats in the documentation: https://pandas.pydata.org/pandas-docs/stable/user_guide/indexing.html#returning-a-view-versus-a-copy\n",
      "  df[\"Age_g\"] = (df[\"Age\"]//10)*10\n",
      "C:\\Users\\82103\\AppData\\Local\\Temp/ipykernel_25860/2243297906.py:3: SettingWithCopyWarning: \n",
      "A value is trying to be set on a copy of a slice from a DataFrame.\n",
      "Try using .loc[row_indexer,col_indexer] = value instead\n",
      "\n",
      "See the caveats in the documentation: https://pandas.pydata.org/pandas-docs/stable/user_guide/indexing.html#returning-a-view-versus-a-copy\n",
      "  df[\"is_preg\"]= (df[\"Pregnancies\"]>0)+0\n"
     ]
    },
    {
     "data": {
      "text/html": [
       "<div>\n",
       "<style scoped>\n",
       "    .dataframe tbody tr th:only-of-type {\n",
       "        vertical-align: middle;\n",
       "    }\n",
       "\n",
       "    .dataframe tbody tr th {\n",
       "        vertical-align: top;\n",
       "    }\n",
       "\n",
       "    .dataframe thead th {\n",
       "        text-align: right;\n",
       "    }\n",
       "</style>\n",
       "<table border=\"1\" class=\"dataframe\">\n",
       "  <thead>\n",
       "    <tr style=\"text-align: right;\">\n",
       "      <th></th>\n",
       "      <th>Pregnancies</th>\n",
       "      <th>Glucose</th>\n",
       "      <th>BloodPressure</th>\n",
       "      <th>SkinThickness</th>\n",
       "      <th>Insulin</th>\n",
       "      <th>BMI</th>\n",
       "      <th>DiabetesPedigreeFunction</th>\n",
       "      <th>Age</th>\n",
       "      <th>Outcome</th>\n",
       "      <th>Age_g</th>\n",
       "      <th>is_preg</th>\n",
       "    </tr>\n",
       "  </thead>\n",
       "  <tbody>\n",
       "    <tr>\n",
       "      <th>0</th>\n",
       "      <td>6</td>\n",
       "      <td>148</td>\n",
       "      <td>72</td>\n",
       "      <td>35</td>\n",
       "      <td>0</td>\n",
       "      <td>33.6</td>\n",
       "      <td>0.627</td>\n",
       "      <td>50</td>\n",
       "      <td>1</td>\n",
       "      <td>50</td>\n",
       "      <td>1</td>\n",
       "    </tr>\n",
       "    <tr>\n",
       "      <th>1</th>\n",
       "      <td>1</td>\n",
       "      <td>85</td>\n",
       "      <td>66</td>\n",
       "      <td>29</td>\n",
       "      <td>0</td>\n",
       "      <td>26.6</td>\n",
       "      <td>0.351</td>\n",
       "      <td>31</td>\n",
       "      <td>0</td>\n",
       "      <td>30</td>\n",
       "      <td>1</td>\n",
       "    </tr>\n",
       "  </tbody>\n",
       "</table>\n",
       "</div>"
      ],
      "text/plain": [
       "   Pregnancies  Glucose  BloodPressure  SkinThickness  Insulin   BMI  \\\n",
       "0            6      148             72             35        0  33.6   \n",
       "1            1       85             66             29        0  26.6   \n",
       "\n",
       "   DiabetesPedigreeFunction  Age  Outcome  Age_g  is_preg  \n",
       "0                     0.627   50        1     50        1  \n",
       "1                     0.351   31        0     30        1  "
      ]
     },
     "execution_count": 26,
     "metadata": {},
     "output_type": "execute_result"
    }
   ],
   "source": [
    "df = df.loc[df[\"BMI\"]>0,]\n",
    "df[\"Age_g\"] = (df[\"Age\"]//10)*10\n",
    "df[\"is_preg\"]= (df[\"Pregnancies\"]>0)+0\n",
    "df.head(2)"
   ]
  },
  {
   "cell_type": "code",
   "execution_count": 27,
   "id": "3ab3bd64",
   "metadata": {},
   "outputs": [
    {
     "data": {
      "text/html": [
       "<div>\n",
       "<style scoped>\n",
       "    .dataframe tbody tr th:only-of-type {\n",
       "        vertical-align: middle;\n",
       "    }\n",
       "\n",
       "    .dataframe tbody tr th {\n",
       "        vertical-align: top;\n",
       "    }\n",
       "\n",
       "    .dataframe thead th {\n",
       "        text-align: right;\n",
       "    }\n",
       "</style>\n",
       "<table border=\"1\" class=\"dataframe\">\n",
       "  <thead>\n",
       "    <tr style=\"text-align: right;\">\n",
       "      <th></th>\n",
       "      <th>Pregnancies</th>\n",
       "      <th>Glucose</th>\n",
       "      <th>BloodPressure</th>\n",
       "      <th>SkinThickness</th>\n",
       "      <th>Insulin</th>\n",
       "      <th>BMI</th>\n",
       "      <th>DiabetesPedigreeFunction</th>\n",
       "      <th>Age</th>\n",
       "      <th>Outcome</th>\n",
       "      <th>Age_g</th>\n",
       "      <th>is_preg</th>\n",
       "    </tr>\n",
       "  </thead>\n",
       "  <tbody>\n",
       "    <tr>\n",
       "      <th>247</th>\n",
       "      <td>0</td>\n",
       "      <td>165</td>\n",
       "      <td>90</td>\n",
       "      <td>33</td>\n",
       "      <td>680</td>\n",
       "      <td>52.3</td>\n",
       "      <td>0.427</td>\n",
       "      <td>23</td>\n",
       "      <td>0</td>\n",
       "      <td>20</td>\n",
       "      <td>0</td>\n",
       "    </tr>\n",
       "    <tr>\n",
       "      <th>659</th>\n",
       "      <td>3</td>\n",
       "      <td>80</td>\n",
       "      <td>82</td>\n",
       "      <td>31</td>\n",
       "      <td>70</td>\n",
       "      <td>34.2</td>\n",
       "      <td>1.292</td>\n",
       "      <td>27</td>\n",
       "      <td>1</td>\n",
       "      <td>20</td>\n",
       "      <td>1</td>\n",
       "    </tr>\n",
       "  </tbody>\n",
       "</table>\n",
       "</div>"
      ],
      "text/plain": [
       "     Pregnancies  Glucose  BloodPressure  SkinThickness  Insulin   BMI  \\\n",
       "247            0      165             90             33      680  52.3   \n",
       "659            3       80             82             31       70  34.2   \n",
       "\n",
       "     DiabetesPedigreeFunction  Age  Outcome  Age_g  is_preg  \n",
       "247                     0.427   23        0     20        0  \n",
       "659                     1.292   27        1     20        1  "
      ]
     },
     "execution_count": 27,
     "metadata": {},
     "output_type": "execute_result"
    }
   ],
   "source": [
    "from sklearn.model_selection import train_test_split\n",
    "df_train, df_test = train_test_split(df, train_size= 0.8, random_state=123)\n",
    "df_train.head(2)"
   ]
  },
  {
   "cell_type": "code",
   "execution_count": 30,
   "id": "e5da953c",
   "metadata": {},
   "outputs": [
    {
     "data": {
      "text/plain": [
       "array([[0.09436402, 0.90563598],\n",
       "       [0.74783283, 0.25216717],\n",
       "       [0.11042961, 0.88957039],\n",
       "       [0.57991266, 0.42008734]])"
      ]
     },
     "execution_count": 30,
     "metadata": {},
     "output_type": "execute_result"
    }
   ],
   "source": [
    "model = GaussianNB().fit(X = df_train.loc[:,[\"is_preg\", \"BMI\",\"Age_g\", \"Glucose\"]],\n",
    "                         y = df_train[\"Outcome\"])\n",
    "pred = model.predict_proba(df_test.loc[:,[\"is_preg\", \"BMI\",\"Age_g\", \"Glucose\"]])\n",
    "pred[:4,]"
   ]
  },
  {
   "cell_type": "code",
   "execution_count": 32,
   "id": "07af2bc5",
   "metadata": {},
   "outputs": [
    {
     "data": {
      "text/plain": [
       "0.8026315789473685"
      ]
     },
     "execution_count": 32,
     "metadata": {},
     "output_type": "execute_result"
    }
   ],
   "source": [
    "accuracy_score(y_pred= (pred[:,1]>0.5) +0, \n",
    "               y_true = df_test[\"Outcome\"])"
   ]
  },
  {
   "cell_type": "code",
   "execution_count": 33,
   "id": "c243a4ed",
   "metadata": {},
   "outputs": [],
   "source": [
    "from sklearn.linear_model import LogisticRegression"
   ]
  },
  {
   "cell_type": "code",
   "execution_count": 34,
   "id": "11e95ec9",
   "metadata": {},
   "outputs": [
    {
     "data": {
      "text/plain": [
       "LogisticRegression()"
      ]
     },
     "execution_count": 34,
     "metadata": {},
     "output_type": "execute_result"
    }
   ],
   "source": [
    "model_lr = LogisticRegression()\n",
    "model_lr.fit(X = df_train.loc[:,[\"is_preg\", \"BMI\",\"Age_g\", \"Glucose\"]],\n",
    "            y = df_train[\"Outcome\"])"
   ]
  },
  {
   "cell_type": "code",
   "execution_count": 41,
   "id": "9c7ee1da",
   "metadata": {},
   "outputs": [],
   "source": [
    "pred_lr = model_lr.predict_proba(df_test.loc[:,[\"is_preg\", \"BMI\",\"Age_g\", \"Glucose\"]])\n",
    "pred_lr = pred_lr[:,1]\n",
    "pred_lr_class = (pred_lr > 0.5) +0"
   ]
  },
  {
   "cell_type": "code",
   "execution_count": 43,
   "id": "56b2d66e",
   "metadata": {},
   "outputs": [
    {
     "data": {
      "text/plain": [
       "0.8289473684210527"
      ]
     },
     "execution_count": 43,
     "metadata": {},
     "output_type": "execute_result"
    }
   ],
   "source": [
    "accuracy_score(y_true = df_test[\"Outcome\"], \n",
    "               y_pred = pred_lr_class)"
   ]
  },
  {
   "cell_type": "code",
   "execution_count": null,
   "id": "94a04b45",
   "metadata": {},
   "outputs": [],
   "source": []
  }
 ],
 "metadata": {
  "kernelspec": {
   "display_name": "Python 3 (ipykernel)",
   "language": "python",
   "name": "python3"
  },
  "language_info": {
   "codemirror_mode": {
    "name": "ipython",
    "version": 3
   },
   "file_extension": ".py",
   "mimetype": "text/x-python",
   "name": "python",
   "nbconvert_exporter": "python",
   "pygments_lexer": "ipython3",
   "version": "3.9.7"
  }
 },
 "nbformat": 4,
 "nbformat_minor": 5
}
