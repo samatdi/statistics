{
 "cells": [
  {
   "cell_type": "code",
   "execution_count": 2,
   "id": "cc0f9a01",
   "metadata": {},
   "outputs": [],
   "source": [
    "import pandas as pd"
   ]
  },
  {
   "cell_type": "code",
   "execution_count": 4,
   "id": "4a113949",
   "metadata": {},
   "outputs": [
    {
     "data": {
      "text/html": [
       "<div>\n",
       "<style scoped>\n",
       "    .dataframe tbody tr th:only-of-type {\n",
       "        vertical-align: middle;\n",
       "    }\n",
       "\n",
       "    .dataframe tbody tr th {\n",
       "        vertical-align: top;\n",
       "    }\n",
       "\n",
       "    .dataframe thead th {\n",
       "        text-align: right;\n",
       "    }\n",
       "</style>\n",
       "<table border=\"1\" class=\"dataframe\">\n",
       "  <thead>\n",
       "    <tr style=\"text-align: right;\">\n",
       "      <th></th>\n",
       "      <th>ID</th>\n",
       "      <th>is_attrited</th>\n",
       "      <th>Age</th>\n",
       "      <th>Gender</th>\n",
       "      <th>Dependent_cnt</th>\n",
       "      <th>Edu_level</th>\n",
       "      <th>Marital_status</th>\n",
       "      <th>Income</th>\n",
       "      <th>Card</th>\n",
       "      <th>Period_m</th>\n",
       "      <th>Total_rel_cnt</th>\n",
       "      <th>Inactive_last_12m</th>\n",
       "      <th>Contacts_cnt_last_12m</th>\n",
       "      <th>Credit_limit</th>\n",
       "      <th>Total_trans_amt</th>\n",
       "      <th>Total_trans_cnt</th>\n",
       "    </tr>\n",
       "  </thead>\n",
       "  <tbody>\n",
       "    <tr>\n",
       "      <th>0</th>\n",
       "      <td>1</td>\n",
       "      <td>0</td>\n",
       "      <td>41</td>\n",
       "      <td>F</td>\n",
       "      <td>2</td>\n",
       "      <td>High School</td>\n",
       "      <td>Married</td>\n",
       "      <td>Less than $40K</td>\n",
       "      <td>Blue</td>\n",
       "      <td>36</td>\n",
       "      <td>6</td>\n",
       "      <td>2</td>\n",
       "      <td>2</td>\n",
       "      <td>4953.0</td>\n",
       "      <td>4183</td>\n",
       "      <td>67</td>\n",
       "    </tr>\n",
       "    <tr>\n",
       "      <th>1</th>\n",
       "      <td>2</td>\n",
       "      <td>0</td>\n",
       "      <td>38</td>\n",
       "      <td>M</td>\n",
       "      <td>0</td>\n",
       "      <td>High School</td>\n",
       "      <td>Single</td>\n",
       "      <td>$80K - $120K</td>\n",
       "      <td>Blue</td>\n",
       "      <td>29</td>\n",
       "      <td>3</td>\n",
       "      <td>3</td>\n",
       "      <td>2</td>\n",
       "      <td>5983.0</td>\n",
       "      <td>4141</td>\n",
       "      <td>65</td>\n",
       "    </tr>\n",
       "  </tbody>\n",
       "</table>\n",
       "</div>"
      ],
      "text/plain": [
       "   ID  is_attrited  Age Gender  Dependent_cnt    Edu_level Marital_status  \\\n",
       "0   1            0   41      F              2  High School        Married   \n",
       "1   2            0   38      M              0  High School         Single   \n",
       "\n",
       "           Income  Card  Period_m  Total_rel_cnt  Inactive_last_12m  \\\n",
       "0  Less than $40K  Blue        36              6                  2   \n",
       "1    $80K - $120K  Blue        29              3                  3   \n",
       "\n",
       "   Contacts_cnt_last_12m  Credit_limit  Total_trans_amt  Total_trans_cnt  \n",
       "0                      2        4953.0             4183               67  \n",
       "1                      2        5983.0             4141               65  "
      ]
     },
     "execution_count": 4,
     "metadata": {},
     "output_type": "execute_result"
    }
   ],
   "source": [
    "df = pd.read_csv(\"실기 Python 실습파일 (2)/financial_info_10k_persons.csv\")\n",
    "df.head(2)"
   ]
  },
  {
   "cell_type": "markdown",
   "id": "9a09f147",
   "metadata": {},
   "source": [
    "1. 고객의 총 송금액이 교육 수준, 혼인 여부에 따라서 어떤 특징이 보이는지\n",
    "분산분석을 통해 알아보고자 한다. 1회 평균 송금액을 종속변수로 했을 때\n",
    "독립변수간 교호작용 여부를 알아보고 해당 p-value를 반올림하여 소수점\n",
    "둘째자리까지 기술하시오.(정답 예시:0.12)"
   ]
  },
  {
   "cell_type": "code",
   "execution_count": 5,
   "id": "de82c051",
   "metadata": {},
   "outputs": [],
   "source": [
    "from statsmodels.formula.api import ols\n",
    "from statsmodels.stats.anova import anova_lm"
   ]
  },
  {
   "cell_type": "code",
   "execution_count": 13,
   "id": "708170df",
   "metadata": {},
   "outputs": [],
   "source": [
    "df_q1 = df.copy()"
   ]
  },
  {
   "cell_type": "code",
   "execution_count": 8,
   "id": "c350e5a8",
   "metadata": {},
   "outputs": [
    {
     "data": {
      "text/html": [
       "<div>\n",
       "<style scoped>\n",
       "    .dataframe tbody tr th:only-of-type {\n",
       "        vertical-align: middle;\n",
       "    }\n",
       "\n",
       "    .dataframe tbody tr th {\n",
       "        vertical-align: top;\n",
       "    }\n",
       "\n",
       "    .dataframe thead th {\n",
       "        text-align: right;\n",
       "    }\n",
       "</style>\n",
       "<table border=\"1\" class=\"dataframe\">\n",
       "  <thead>\n",
       "    <tr style=\"text-align: right;\">\n",
       "      <th></th>\n",
       "      <th>df</th>\n",
       "      <th>sum_sq</th>\n",
       "      <th>mean_sq</th>\n",
       "      <th>F</th>\n",
       "      <th>PR(&gt;F)</th>\n",
       "    </tr>\n",
       "  </thead>\n",
       "  <tbody>\n",
       "    <tr>\n",
       "      <th>Edu_level</th>\n",
       "      <td>6.0</td>\n",
       "      <td>7.145069e+07</td>\n",
       "      <td>1.190845e+07</td>\n",
       "      <td>1.139094</td>\n",
       "      <td>3.365109e-01</td>\n",
       "    </tr>\n",
       "    <tr>\n",
       "      <th>Marital_status</th>\n",
       "      <td>3.0</td>\n",
       "      <td>4.442492e+08</td>\n",
       "      <td>1.480831e+08</td>\n",
       "      <td>14.164784</td>\n",
       "      <td>3.289793e-09</td>\n",
       "    </tr>\n",
       "    <tr>\n",
       "      <th>Edu_level:Marital_status</th>\n",
       "      <td>18.0</td>\n",
       "      <td>1.853456e+08</td>\n",
       "      <td>1.029698e+07</td>\n",
       "      <td>0.984950</td>\n",
       "      <td>4.737308e-01</td>\n",
       "    </tr>\n",
       "    <tr>\n",
       "      <th>Residual</th>\n",
       "      <td>9972.0</td>\n",
       "      <td>1.042504e+11</td>\n",
       "      <td>1.045431e+07</td>\n",
       "      <td>NaN</td>\n",
       "      <td>NaN</td>\n",
       "    </tr>\n",
       "  </tbody>\n",
       "</table>\n",
       "</div>"
      ],
      "text/plain": [
       "                              df        sum_sq       mean_sq          F  \\\n",
       "Edu_level                    6.0  7.145069e+07  1.190845e+07   1.139094   \n",
       "Marital_status               3.0  4.442492e+08  1.480831e+08  14.164784   \n",
       "Edu_level:Marital_status    18.0  1.853456e+08  1.029698e+07   0.984950   \n",
       "Residual                  9972.0  1.042504e+11  1.045431e+07        NaN   \n",
       "\n",
       "                                PR(>F)  \n",
       "Edu_level                 3.365109e-01  \n",
       "Marital_status            3.289793e-09  \n",
       "Edu_level:Marital_status  4.737308e-01  \n",
       "Residual                           NaN  "
      ]
     },
     "execution_count": 8,
     "metadata": {},
     "output_type": "execute_result"
    }
   ],
   "source": [
    "model= ols(data = df,\n",
    "           formula = \"Total_trans_amt ~ Edu_level + Marital_status + Edu_level:Marital_status\").fit()\n",
    "anova_lm(model)"
   ]
  },
  {
   "cell_type": "code",
   "execution_count": 9,
   "id": "03b7d09c",
   "metadata": {},
   "outputs": [
    {
     "data": {
      "text/html": [
       "<div>\n",
       "<style scoped>\n",
       "    .dataframe tbody tr th:only-of-type {\n",
       "        vertical-align: middle;\n",
       "    }\n",
       "\n",
       "    .dataframe tbody tr th {\n",
       "        vertical-align: top;\n",
       "    }\n",
       "\n",
       "    .dataframe thead th {\n",
       "        text-align: right;\n",
       "    }\n",
       "</style>\n",
       "<table border=\"1\" class=\"dataframe\">\n",
       "  <thead>\n",
       "    <tr style=\"text-align: right;\">\n",
       "      <th></th>\n",
       "      <th>df</th>\n",
       "      <th>sum_sq</th>\n",
       "      <th>mean_sq</th>\n",
       "      <th>F</th>\n",
       "      <th>PR(&gt;F)</th>\n",
       "    </tr>\n",
       "  </thead>\n",
       "  <tbody>\n",
       "    <tr>\n",
       "      <th>Edu_level</th>\n",
       "      <td>6.0</td>\n",
       "      <td>7.145069e+07</td>\n",
       "      <td>1.190845e+07</td>\n",
       "      <td>1.139</td>\n",
       "      <td>0.337</td>\n",
       "    </tr>\n",
       "    <tr>\n",
       "      <th>Marital_status</th>\n",
       "      <td>3.0</td>\n",
       "      <td>4.442492e+08</td>\n",
       "      <td>1.480831e+08</td>\n",
       "      <td>14.165</td>\n",
       "      <td>0.000</td>\n",
       "    </tr>\n",
       "    <tr>\n",
       "      <th>Edu_level:Marital_status</th>\n",
       "      <td>18.0</td>\n",
       "      <td>1.853456e+08</td>\n",
       "      <td>1.029698e+07</td>\n",
       "      <td>0.985</td>\n",
       "      <td>0.474</td>\n",
       "    </tr>\n",
       "    <tr>\n",
       "      <th>Residual</th>\n",
       "      <td>9972.0</td>\n",
       "      <td>1.042504e+11</td>\n",
       "      <td>1.045431e+07</td>\n",
       "      <td>NaN</td>\n",
       "      <td>NaN</td>\n",
       "    </tr>\n",
       "  </tbody>\n",
       "</table>\n",
       "</div>"
      ],
      "text/plain": [
       "                              df        sum_sq       mean_sq       F  PR(>F)\n",
       "Edu_level                    6.0  7.145069e+07  1.190845e+07   1.139   0.337\n",
       "Marital_status               3.0  4.442492e+08  1.480831e+08  14.165   0.000\n",
       "Edu_level:Marital_status    18.0  1.853456e+08  1.029698e+07   0.985   0.474\n",
       "Residual                  9972.0  1.042504e+11  1.045431e+07     NaN     NaN"
      ]
     },
     "execution_count": 9,
     "metadata": {},
     "output_type": "execute_result"
    }
   ],
   "source": [
    "anova_lm(model).round(3)"
   ]
  },
  {
   "cell_type": "markdown",
   "id": "f74ef99d",
   "metadata": {},
   "source": [
    "2. 고객의 신용 한도는 다양한 정보를 기반으로 결정된다. \n",
    "고객의 금융활동이 누적됨에 따라 신용 한도는 바뀌기도 하는데 이를 \n",
    "비교하고자 한다. 고객의 신용한도를 종속변수를 공통으로 하고 부양가족,\n",
    "나이, 학력, 성별, 결혼여부를 1번 회귀 모델. 1번 모델에 가입기간과 \n",
    "누적 송금 횟수를 독립변수에 더한 회귀 모델의 결정계수 차이의 절대값을\n",
    "반올림하여 소수점 셋 째 자리까지 기술하시오.(정답 예시:0.123)"
   ]
  },
  {
   "cell_type": "code",
   "execution_count": 10,
   "id": "0b88b052",
   "metadata": {},
   "outputs": [
    {
     "data": {
      "text/html": [
       "<div>\n",
       "<style scoped>\n",
       "    .dataframe tbody tr th:only-of-type {\n",
       "        vertical-align: middle;\n",
       "    }\n",
       "\n",
       "    .dataframe tbody tr th {\n",
       "        vertical-align: top;\n",
       "    }\n",
       "\n",
       "    .dataframe thead th {\n",
       "        text-align: right;\n",
       "    }\n",
       "</style>\n",
       "<table border=\"1\" class=\"dataframe\">\n",
       "  <thead>\n",
       "    <tr style=\"text-align: right;\">\n",
       "      <th></th>\n",
       "      <th>ID</th>\n",
       "      <th>is_attrited</th>\n",
       "      <th>Age</th>\n",
       "      <th>Gender</th>\n",
       "      <th>Dependent_cnt</th>\n",
       "      <th>Edu_level</th>\n",
       "      <th>Marital_status</th>\n",
       "      <th>Income</th>\n",
       "      <th>Card</th>\n",
       "      <th>Period_m</th>\n",
       "      <th>Total_rel_cnt</th>\n",
       "      <th>Inactive_last_12m</th>\n",
       "      <th>Contacts_cnt_last_12m</th>\n",
       "      <th>Credit_limit</th>\n",
       "      <th>Total_trans_amt</th>\n",
       "      <th>Total_trans_cnt</th>\n",
       "    </tr>\n",
       "  </thead>\n",
       "  <tbody>\n",
       "    <tr>\n",
       "      <th>0</th>\n",
       "      <td>1</td>\n",
       "      <td>0</td>\n",
       "      <td>41</td>\n",
       "      <td>F</td>\n",
       "      <td>2</td>\n",
       "      <td>High School</td>\n",
       "      <td>Married</td>\n",
       "      <td>Less than $40K</td>\n",
       "      <td>Blue</td>\n",
       "      <td>36</td>\n",
       "      <td>6</td>\n",
       "      <td>2</td>\n",
       "      <td>2</td>\n",
       "      <td>4953.0</td>\n",
       "      <td>4183</td>\n",
       "      <td>67</td>\n",
       "    </tr>\n",
       "    <tr>\n",
       "      <th>1</th>\n",
       "      <td>2</td>\n",
       "      <td>0</td>\n",
       "      <td>38</td>\n",
       "      <td>M</td>\n",
       "      <td>0</td>\n",
       "      <td>High School</td>\n",
       "      <td>Single</td>\n",
       "      <td>$80K - $120K</td>\n",
       "      <td>Blue</td>\n",
       "      <td>29</td>\n",
       "      <td>3</td>\n",
       "      <td>3</td>\n",
       "      <td>2</td>\n",
       "      <td>5983.0</td>\n",
       "      <td>4141</td>\n",
       "      <td>65</td>\n",
       "    </tr>\n",
       "  </tbody>\n",
       "</table>\n",
       "</div>"
      ],
      "text/plain": [
       "   ID  is_attrited  Age Gender  Dependent_cnt    Edu_level Marital_status  \\\n",
       "0   1            0   41      F              2  High School        Married   \n",
       "1   2            0   38      M              0  High School         Single   \n",
       "\n",
       "           Income  Card  Period_m  Total_rel_cnt  Inactive_last_12m  \\\n",
       "0  Less than $40K  Blue        36              6                  2   \n",
       "1    $80K - $120K  Blue        29              3                  3   \n",
       "\n",
       "   Contacts_cnt_last_12m  Credit_limit  Total_trans_amt  Total_trans_cnt  \n",
       "0                      2        4953.0             4183               67  \n",
       "1                      2        5983.0             4141               65  "
      ]
     },
     "execution_count": 10,
     "metadata": {},
     "output_type": "execute_result"
    }
   ],
   "source": [
    "df = pd.read_csv(\"실기 Python 실습파일 (2)/financial_info_10k_persons.csv\")\n",
    "df.head(2)"
   ]
  },
  {
   "cell_type": "code",
   "execution_count": 15,
   "id": "f07bfd3e",
   "metadata": {},
   "outputs": [
    {
     "data": {
      "text/html": [
       "<div>\n",
       "<style scoped>\n",
       "    .dataframe tbody tr th:only-of-type {\n",
       "        vertical-align: middle;\n",
       "    }\n",
       "\n",
       "    .dataframe tbody tr th {\n",
       "        vertical-align: top;\n",
       "    }\n",
       "\n",
       "    .dataframe thead th {\n",
       "        text-align: right;\n",
       "    }\n",
       "</style>\n",
       "<table border=\"1\" class=\"dataframe\">\n",
       "  <thead>\n",
       "    <tr style=\"text-align: right;\">\n",
       "      <th></th>\n",
       "      <th>ID</th>\n",
       "      <th>is_attrited</th>\n",
       "      <th>Age</th>\n",
       "      <th>Gender</th>\n",
       "      <th>Dependent_cnt</th>\n",
       "      <th>Edu_level</th>\n",
       "      <th>Marital_status</th>\n",
       "      <th>Income</th>\n",
       "      <th>Card</th>\n",
       "      <th>Period_m</th>\n",
       "      <th>Total_rel_cnt</th>\n",
       "      <th>Inactive_last_12m</th>\n",
       "      <th>Contacts_cnt_last_12m</th>\n",
       "      <th>Credit_limit</th>\n",
       "      <th>Total_trans_amt</th>\n",
       "      <th>Total_trans_cnt</th>\n",
       "    </tr>\n",
       "  </thead>\n",
       "  <tbody>\n",
       "    <tr>\n",
       "      <th>0</th>\n",
       "      <td>1</td>\n",
       "      <td>0</td>\n",
       "      <td>41</td>\n",
       "      <td>F</td>\n",
       "      <td>2</td>\n",
       "      <td>High School</td>\n",
       "      <td>Married</td>\n",
       "      <td>Less than $40K</td>\n",
       "      <td>Blue</td>\n",
       "      <td>36</td>\n",
       "      <td>6</td>\n",
       "      <td>2</td>\n",
       "      <td>2</td>\n",
       "      <td>4953.0</td>\n",
       "      <td>4183</td>\n",
       "      <td>67</td>\n",
       "    </tr>\n",
       "    <tr>\n",
       "      <th>1</th>\n",
       "      <td>2</td>\n",
       "      <td>0</td>\n",
       "      <td>38</td>\n",
       "      <td>M</td>\n",
       "      <td>0</td>\n",
       "      <td>High School</td>\n",
       "      <td>Single</td>\n",
       "      <td>$80K - $120K</td>\n",
       "      <td>Blue</td>\n",
       "      <td>29</td>\n",
       "      <td>3</td>\n",
       "      <td>3</td>\n",
       "      <td>2</td>\n",
       "      <td>5983.0</td>\n",
       "      <td>4141</td>\n",
       "      <td>65</td>\n",
       "    </tr>\n",
       "  </tbody>\n",
       "</table>\n",
       "</div>"
      ],
      "text/plain": [
       "   ID  is_attrited  Age Gender  Dependent_cnt    Edu_level Marital_status  \\\n",
       "0   1            0   41      F              2  High School        Married   \n",
       "1   2            0   38      M              0  High School         Single   \n",
       "\n",
       "           Income  Card  Period_m  Total_rel_cnt  Inactive_last_12m  \\\n",
       "0  Less than $40K  Blue        36              6                  2   \n",
       "1    $80K - $120K  Blue        29              3                  3   \n",
       "\n",
       "   Contacts_cnt_last_12m  Credit_limit  Total_trans_amt  Total_trans_cnt  \n",
       "0                      2        4953.0             4183               67  \n",
       "1                      2        5983.0             4141               65  "
      ]
     },
     "execution_count": 15,
     "metadata": {},
     "output_type": "execute_result"
    }
   ],
   "source": [
    "df_q2 = df.copy()\n",
    "df_q2.head(2)"
   ]
  },
  {
   "cell_type": "code",
   "execution_count": 16,
   "id": "aec1b64c",
   "metadata": {
    "scrolled": true
   },
   "outputs": [
    {
     "name": "stdout",
     "output_type": "stream",
     "text": [
      "Index(['Credit_limit', 'Age', 'Gender', 'Dependent_cnt', 'Edu_level',\n",
      "       'Marital_status'],\n",
      "      dtype='object')\n",
      "Index(['Credit_limit', 'Age', 'Gender', 'Dependent_cnt', 'Edu_level',\n",
      "       'Marital_status', 'Period_m', 'Total_trans_cnt'],\n",
      "      dtype='object')\n"
     ]
    }
   ],
   "source": [
    "y = df_q2[\"Credit_limit\"]\n",
    "X1 = pd.concat([y, df_q2.loc[:,\"Age\":\"Marital_status\"]], axis =1)\n",
    "X2 = pd.concat([X1, df_q2.loc[:,[\"Period_m\",\"Total_trans_cnt\"]]], axis =1)\n",
    "print(X1.columns)\n",
    "print(X2.columns)"
   ]
  },
  {
   "cell_type": "code",
   "execution_count": 38,
   "id": "d2a799bc",
   "metadata": {},
   "outputs": [
    {
     "data": {
      "text/html": [
       "<div>\n",
       "<style scoped>\n",
       "    .dataframe tbody tr th:only-of-type {\n",
       "        vertical-align: middle;\n",
       "    }\n",
       "\n",
       "    .dataframe tbody tr th {\n",
       "        vertical-align: top;\n",
       "    }\n",
       "\n",
       "    .dataframe thead th {\n",
       "        text-align: right;\n",
       "    }\n",
       "</style>\n",
       "<table border=\"1\" class=\"dataframe\">\n",
       "  <thead>\n",
       "    <tr style=\"text-align: right;\">\n",
       "      <th></th>\n",
       "      <th>Credit_limit</th>\n",
       "      <th>Age</th>\n",
       "      <th>Dependent_cnt</th>\n",
       "      <th>Gender_M</th>\n",
       "      <th>Edu_level_Doctorate</th>\n",
       "      <th>Edu_level_Graduate</th>\n",
       "      <th>Edu_level_High School</th>\n",
       "      <th>Edu_level_Post-Graduate</th>\n",
       "      <th>Edu_level_Uneducated</th>\n",
       "      <th>Edu_level_Unknown</th>\n",
       "      <th>Marital_status_Married</th>\n",
       "      <th>Marital_status_Single</th>\n",
       "      <th>Marital_status_Unknown</th>\n",
       "    </tr>\n",
       "  </thead>\n",
       "  <tbody>\n",
       "    <tr>\n",
       "      <th>0</th>\n",
       "      <td>4953.0</td>\n",
       "      <td>41</td>\n",
       "      <td>2</td>\n",
       "      <td>0</td>\n",
       "      <td>0</td>\n",
       "      <td>0</td>\n",
       "      <td>1</td>\n",
       "      <td>0</td>\n",
       "      <td>0</td>\n",
       "      <td>0</td>\n",
       "      <td>1</td>\n",
       "      <td>0</td>\n",
       "      <td>0</td>\n",
       "    </tr>\n",
       "    <tr>\n",
       "      <th>1</th>\n",
       "      <td>5983.0</td>\n",
       "      <td>38</td>\n",
       "      <td>0</td>\n",
       "      <td>1</td>\n",
       "      <td>0</td>\n",
       "      <td>0</td>\n",
       "      <td>1</td>\n",
       "      <td>0</td>\n",
       "      <td>0</td>\n",
       "      <td>0</td>\n",
       "      <td>0</td>\n",
       "      <td>1</td>\n",
       "      <td>0</td>\n",
       "    </tr>\n",
       "  </tbody>\n",
       "</table>\n",
       "</div>"
      ],
      "text/plain": [
       "   Credit_limit  Age  Dependent_cnt  Gender_M  Edu_level_Doctorate  \\\n",
       "0        4953.0   41              2         0                    0   \n",
       "1        5983.0   38              0         1                    0   \n",
       "\n",
       "   Edu_level_Graduate  Edu_level_High School  Edu_level_Post-Graduate  \\\n",
       "0                   0                      1                        0   \n",
       "1                   0                      1                        0   \n",
       "\n",
       "   Edu_level_Uneducated  Edu_level_Unknown  Marital_status_Married  \\\n",
       "0                     0                  0                       1   \n",
       "1                     0                  0                       0   \n",
       "\n",
       "   Marital_status_Single  Marital_status_Unknown  \n",
       "0                      0                       0  \n",
       "1                      1                       0  "
      ]
     },
     "execution_count": 38,
     "metadata": {},
     "output_type": "execute_result"
    }
   ],
   "source": [
    "X1_dum = pd.get_dummies(X1, drop_first = True)\n",
    "X1_dum.head(2)"
   ]
  },
  {
   "cell_type": "code",
   "execution_count": 42,
   "id": "f36619dd",
   "metadata": {},
   "outputs": [],
   "source": [
    "X1_dum = X1_dum.rename(columns = {\"Edu_level_High School\":\"Edu_level_High_School\",\n",
    "                                  \"Edu_level_Post-Graduate\":\"Edu_level_Post_Graduate\"})"
   ]
  },
  {
   "cell_type": "code",
   "execution_count": 43,
   "id": "a00b7346",
   "metadata": {},
   "outputs": [
    {
     "data": {
      "text/plain": [
       "'Credit_limit ~Age+Gender+Dependent_cnt+Edu_level+Marital_status'"
      ]
     },
     "execution_count": 43,
     "metadata": {},
     "output_type": "execute_result"
    }
   ],
   "source": [
    "\"Credit_limit ~\" + \"+\".join(X1.columns[1:])"
   ]
  },
  {
   "cell_type": "code",
   "execution_count": 44,
   "id": "e039003e",
   "metadata": {},
   "outputs": [],
   "source": [
    "model_1 = ols(formula = \"Credit_limit ~\" + \"+\".join(X1_dum.columns[1:]), data=X1_dum).fit()"
   ]
  },
  {
   "cell_type": "code",
   "execution_count": 45,
   "id": "6f41efe8",
   "metadata": {},
   "outputs": [
    {
     "data": {
      "text/html": [
       "<div>\n",
       "<style scoped>\n",
       "    .dataframe tbody tr th:only-of-type {\n",
       "        vertical-align: middle;\n",
       "    }\n",
       "\n",
       "    .dataframe tbody tr th {\n",
       "        vertical-align: top;\n",
       "    }\n",
       "\n",
       "    .dataframe thead th {\n",
       "        text-align: right;\n",
       "    }\n",
       "</style>\n",
       "<table border=\"1\" class=\"dataframe\">\n",
       "  <thead>\n",
       "    <tr style=\"text-align: right;\">\n",
       "      <th></th>\n",
       "      <th>Credit_limit</th>\n",
       "      <th>Age</th>\n",
       "      <th>Dependent_cnt</th>\n",
       "      <th>Period_m</th>\n",
       "      <th>Total_trans_cnt</th>\n",
       "      <th>Gender_M</th>\n",
       "      <th>Edu_level_Doctorate</th>\n",
       "      <th>Edu_level_Graduate</th>\n",
       "      <th>Edu_level_High School</th>\n",
       "      <th>Edu_level_Post-Graduate</th>\n",
       "      <th>Edu_level_Uneducated</th>\n",
       "      <th>Edu_level_Unknown</th>\n",
       "      <th>Marital_status_Married</th>\n",
       "      <th>Marital_status_Single</th>\n",
       "      <th>Marital_status_Unknown</th>\n",
       "    </tr>\n",
       "  </thead>\n",
       "  <tbody>\n",
       "    <tr>\n",
       "      <th>0</th>\n",
       "      <td>4953.0</td>\n",
       "      <td>41</td>\n",
       "      <td>2</td>\n",
       "      <td>36</td>\n",
       "      <td>67</td>\n",
       "      <td>0</td>\n",
       "      <td>0</td>\n",
       "      <td>0</td>\n",
       "      <td>1</td>\n",
       "      <td>0</td>\n",
       "      <td>0</td>\n",
       "      <td>0</td>\n",
       "      <td>1</td>\n",
       "      <td>0</td>\n",
       "      <td>0</td>\n",
       "    </tr>\n",
       "    <tr>\n",
       "      <th>1</th>\n",
       "      <td>5983.0</td>\n",
       "      <td>38</td>\n",
       "      <td>0</td>\n",
       "      <td>29</td>\n",
       "      <td>65</td>\n",
       "      <td>1</td>\n",
       "      <td>0</td>\n",
       "      <td>0</td>\n",
       "      <td>1</td>\n",
       "      <td>0</td>\n",
       "      <td>0</td>\n",
       "      <td>0</td>\n",
       "      <td>0</td>\n",
       "      <td>1</td>\n",
       "      <td>0</td>\n",
       "    </tr>\n",
       "  </tbody>\n",
       "</table>\n",
       "</div>"
      ],
      "text/plain": [
       "   Credit_limit  Age  Dependent_cnt  Period_m  Total_trans_cnt  Gender_M  \\\n",
       "0        4953.0   41              2        36               67         0   \n",
       "1        5983.0   38              0        29               65         1   \n",
       "\n",
       "   Edu_level_Doctorate  Edu_level_Graduate  Edu_level_High School  \\\n",
       "0                    0                   0                      1   \n",
       "1                    0                   0                      1   \n",
       "\n",
       "   Edu_level_Post-Graduate  Edu_level_Uneducated  Edu_level_Unknown  \\\n",
       "0                        0                     0                  0   \n",
       "1                        0                     0                  0   \n",
       "\n",
       "   Marital_status_Married  Marital_status_Single  Marital_status_Unknown  \n",
       "0                       1                      0                       0  \n",
       "1                       0                      1                       0  "
      ]
     },
     "execution_count": 45,
     "metadata": {},
     "output_type": "execute_result"
    }
   ],
   "source": [
    "X2_dum = pd.get_dummies(X2, drop_first = True)\n",
    "X2_dum.head(2)"
   ]
  },
  {
   "cell_type": "code",
   "execution_count": 48,
   "id": "424b7a69",
   "metadata": {},
   "outputs": [],
   "source": [
    "X2_dum = X2_dum.rename(columns = {\"Edu_level_High School\":\"Edu_level_High_School\",\n",
    "                                  \"Edu_level_Post-Graduate\":\"Edu_level_Post_Graduate\"})"
   ]
  },
  {
   "cell_type": "code",
   "execution_count": 50,
   "id": "1abc6ad2",
   "metadata": {},
   "outputs": [],
   "source": [
    "model_2 = ols(formula = \"Credit_limit ~\" + \"+\".join(X2_dum.columns[1:]), data=X2_dum).fit()"
   ]
  },
  {
   "cell_type": "code",
   "execution_count": 46,
   "id": "3c3e5b5f",
   "metadata": {},
   "outputs": [
    {
     "data": {
      "text/plain": [
       "0.1854263998125757"
      ]
     },
     "execution_count": 46,
     "metadata": {},
     "output_type": "execute_result"
    }
   ],
   "source": [
    "model_1.rsquared"
   ]
  },
  {
   "cell_type": "code",
   "execution_count": 51,
   "id": "d85070f5",
   "metadata": {},
   "outputs": [
    {
     "data": {
      "text/plain": [
       "0.19413399639018636"
      ]
     },
     "execution_count": 51,
     "metadata": {},
     "output_type": "execute_result"
    }
   ],
   "source": [
    "model_2.rsquared"
   ]
  },
  {
   "cell_type": "code",
   "execution_count": 52,
   "id": "1a870914",
   "metadata": {},
   "outputs": [
    {
     "data": {
      "text/plain": [
       "0.009"
      ]
     },
     "execution_count": 52,
     "metadata": {},
     "output_type": "execute_result"
    }
   ],
   "source": [
    "round(abs(model_1.rsquared - model_2.rsquared),3)"
   ]
  },
  {
   "cell_type": "markdown",
   "id": "9705f0f2",
   "metadata": {},
   "source": [
    "3. 신규 고객이 개인정보를 입력할 경우 예상 신용 한도를 보여주려고 한다.\n",
    "부양가족과 수입이 없는 29세 고졸(High School)미혼의 남성의 경우 예상 \n",
    "신용 한도를 정수 부분만 기술하시오 (정답 예시:1)"
   ]
  },
  {
   "cell_type": "code",
   "execution_count": 54,
   "id": "02012e62",
   "metadata": {},
   "outputs": [
    {
     "data": {
      "text/html": [
       "<div>\n",
       "<style scoped>\n",
       "    .dataframe tbody tr th:only-of-type {\n",
       "        vertical-align: middle;\n",
       "    }\n",
       "\n",
       "    .dataframe tbody tr th {\n",
       "        vertical-align: top;\n",
       "    }\n",
       "\n",
       "    .dataframe thead th {\n",
       "        text-align: right;\n",
       "    }\n",
       "</style>\n",
       "<table border=\"1\" class=\"dataframe\">\n",
       "  <thead>\n",
       "    <tr style=\"text-align: right;\">\n",
       "      <th></th>\n",
       "      <th>Credit_limit</th>\n",
       "      <th>Age</th>\n",
       "      <th>Dependent_cnt</th>\n",
       "      <th>Gender_M</th>\n",
       "      <th>Edu_level_Doctorate</th>\n",
       "      <th>Edu_level_Graduate</th>\n",
       "      <th>Edu_level_High_School</th>\n",
       "      <th>Edu_level_Post_Graduate</th>\n",
       "      <th>Edu_level_Uneducated</th>\n",
       "      <th>Edu_level_Unknown</th>\n",
       "      <th>Marital_status_Married</th>\n",
       "      <th>Marital_status_Single</th>\n",
       "      <th>Marital_status_Unknown</th>\n",
       "    </tr>\n",
       "  </thead>\n",
       "  <tbody>\n",
       "    <tr>\n",
       "      <th>0</th>\n",
       "      <td>4953.0</td>\n",
       "      <td>41</td>\n",
       "      <td>2</td>\n",
       "      <td>0</td>\n",
       "      <td>0</td>\n",
       "      <td>0</td>\n",
       "      <td>1</td>\n",
       "      <td>0</td>\n",
       "      <td>0</td>\n",
       "      <td>0</td>\n",
       "      <td>1</td>\n",
       "      <td>0</td>\n",
       "      <td>0</td>\n",
       "    </tr>\n",
       "  </tbody>\n",
       "</table>\n",
       "</div>"
      ],
      "text/plain": [
       "   Credit_limit  Age  Dependent_cnt  Gender_M  Edu_level_Doctorate  \\\n",
       "0        4953.0   41              2         0                    0   \n",
       "\n",
       "   Edu_level_Graduate  Edu_level_High_School  Edu_level_Post_Graduate  \\\n",
       "0                   0                      1                        0   \n",
       "\n",
       "   Edu_level_Uneducated  Edu_level_Unknown  Marital_status_Married  \\\n",
       "0                     0                  0                       1   \n",
       "\n",
       "   Marital_status_Single  Marital_status_Unknown  \n",
       "0                      0                       0  "
      ]
     },
     "execution_count": 54,
     "metadata": {},
     "output_type": "execute_result"
    }
   ],
   "source": [
    "X1_dum.head(1)"
   ]
  },
  {
   "cell_type": "code",
   "execution_count": 55,
   "id": "0124952e",
   "metadata": {},
   "outputs": [],
   "source": [
    "X1_test = X1_dum.iloc[[0],1:]\n",
    "X1_test[\"Age\"] = 29\n",
    "X1_test[\"Dependent_cnt\"] = 0\n",
    "X1_test[\"Gender_M\"] = 1\n",
    "X1_test[\"Marital_status_Married\"] = 0\n",
    "X1_test[\"Marital_status_Single\"] = 1"
   ]
  },
  {
   "cell_type": "code",
   "execution_count": 56,
   "id": "6abc1ee9",
   "metadata": {},
   "outputs": [
    {
     "data": {
      "text/html": [
       "<div>\n",
       "<style scoped>\n",
       "    .dataframe tbody tr th:only-of-type {\n",
       "        vertical-align: middle;\n",
       "    }\n",
       "\n",
       "    .dataframe tbody tr th {\n",
       "        vertical-align: top;\n",
       "    }\n",
       "\n",
       "    .dataframe thead th {\n",
       "        text-align: right;\n",
       "    }\n",
       "</style>\n",
       "<table border=\"1\" class=\"dataframe\">\n",
       "  <thead>\n",
       "    <tr style=\"text-align: right;\">\n",
       "      <th></th>\n",
       "      <th>Age</th>\n",
       "      <th>Dependent_cnt</th>\n",
       "      <th>Gender_M</th>\n",
       "      <th>Edu_level_Doctorate</th>\n",
       "      <th>Edu_level_Graduate</th>\n",
       "      <th>Edu_level_High_School</th>\n",
       "      <th>Edu_level_Post_Graduate</th>\n",
       "      <th>Edu_level_Uneducated</th>\n",
       "      <th>Edu_level_Unknown</th>\n",
       "      <th>Marital_status_Married</th>\n",
       "      <th>Marital_status_Single</th>\n",
       "      <th>Marital_status_Unknown</th>\n",
       "    </tr>\n",
       "  </thead>\n",
       "  <tbody>\n",
       "    <tr>\n",
       "      <th>0</th>\n",
       "      <td>29</td>\n",
       "      <td>0</td>\n",
       "      <td>1</td>\n",
       "      <td>0</td>\n",
       "      <td>0</td>\n",
       "      <td>1</td>\n",
       "      <td>0</td>\n",
       "      <td>0</td>\n",
       "      <td>0</td>\n",
       "      <td>0</td>\n",
       "      <td>1</td>\n",
       "      <td>0</td>\n",
       "    </tr>\n",
       "  </tbody>\n",
       "</table>\n",
       "</div>"
      ],
      "text/plain": [
       "   Age  Dependent_cnt  Gender_M  Edu_level_Doctorate  Edu_level_Graduate  \\\n",
       "0   29              0         1                    0                   0   \n",
       "\n",
       "   Edu_level_High_School  Edu_level_Post_Graduate  Edu_level_Uneducated  \\\n",
       "0                      1                        0                     0   \n",
       "\n",
       "   Edu_level_Unknown  Marital_status_Married  Marital_status_Single  \\\n",
       "0                  0                       0                      1   \n",
       "\n",
       "   Marital_status_Unknown  \n",
       "0                       0  "
      ]
     },
     "execution_count": 56,
     "metadata": {},
     "output_type": "execute_result"
    }
   ],
   "source": [
    "X1_test"
   ]
  },
  {
   "cell_type": "code",
   "execution_count": 57,
   "id": "4b79eed9",
   "metadata": {},
   "outputs": [
    {
     "data": {
      "text/plain": [
       "0    11403.358901\n",
       "dtype: float64"
      ]
     },
     "execution_count": 57,
     "metadata": {},
     "output_type": "execute_result"
    }
   ],
   "source": [
    "model_1.predict(X1_test)"
   ]
  },
  {
   "cell_type": "code",
   "execution_count": null,
   "id": "211a7f7a",
   "metadata": {},
   "outputs": [],
   "source": []
  }
 ],
 "metadata": {
  "kernelspec": {
   "display_name": "Python 3 (ipykernel)",
   "language": "python",
   "name": "python3"
  },
  "language_info": {
   "codemirror_mode": {
    "name": "ipython",
    "version": 3
   },
   "file_extension": ".py",
   "mimetype": "text/x-python",
   "name": "python",
   "nbconvert_exporter": "python",
   "pygments_lexer": "ipython3",
   "version": "3.9.7"
  }
 },
 "nbformat": 4,
 "nbformat_minor": 5
}
